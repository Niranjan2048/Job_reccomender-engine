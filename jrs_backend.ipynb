{
 "cells": [
  {
   "cell_type": "code",
   "execution_count": 1,
   "id": "f194bd0a",
   "metadata": {},
   "outputs": [
    {
     "name": "stdout",
     "output_type": "stream",
     "text": [
      "Requirement already satisfied: kmodes in c:\\users\\niranjan khedkar\\anaconda3\\lib\\site-packages (0.11.0)\n",
      "Requirement already satisfied: numpy>=1.10.4 in c:\\users\\niranjan khedkar\\anaconda3\\lib\\site-packages (from kmodes) (1.20.1)\n",
      "Requirement already satisfied: scipy>=0.13.3 in c:\\users\\niranjan khedkar\\anaconda3\\lib\\site-packages (from kmodes) (1.6.2)\n",
      "Requirement already satisfied: scikit-learn>=0.22.0 in c:\\users\\niranjan khedkar\\anaconda3\\lib\\site-packages (from kmodes) (0.24.1)\n",
      "Requirement already satisfied: joblib>=0.11 in c:\\users\\niranjan khedkar\\anaconda3\\lib\\site-packages (from kmodes) (1.0.1)\n",
      "Requirement already satisfied: threadpoolctl>=2.0.0 in c:\\users\\niranjan khedkar\\anaconda3\\lib\\site-packages (from scikit-learn>=0.22.0->kmodes) (2.1.0)\n"
     ]
    }
   ],
   "source": [
    "!pip install kmodes"
   ]
  },
  {
   "cell_type": "code",
   "execution_count": 2,
   "id": "de07f99f",
   "metadata": {},
   "outputs": [],
   "source": [
    "import matplotlib.pyplot as plt\n",
    "import seaborn as sns\n",
    "import pandas as pd\n",
    "import numpy as np\n",
    "import ast \n",
    "from scipy import stats\n",
    "from ast import literal_eval\n",
    "from sklearn.feature_extraction.text import TfidfVectorizer, CountVectorizer\n",
    "from sklearn.metrics.pairwise import linear_kernel, cosine_similarity\n",
    "from kmodes.kprototypes import KPrototypes\n",
    "from kmodes.kmodes import KModes\n",
    "from sklearn.preprocessing import OneHotEncoder"
   ]
  },
  {
   "cell_type": "code",
   "execution_count": 3,
   "id": "0c0b9941",
   "metadata": {},
   "outputs": [
    {
     "data": {
      "text/html": [
       "<div>\n",
       "<style scoped>\n",
       "    .dataframe tbody tr th:only-of-type {\n",
       "        vertical-align: middle;\n",
       "    }\n",
       "\n",
       "    .dataframe tbody tr th {\n",
       "        vertical-align: top;\n",
       "    }\n",
       "\n",
       "    .dataframe thead th {\n",
       "        text-align: right;\n",
       "    }\n",
       "</style>\n",
       "<table border=\"1\" class=\"dataframe\">\n",
       "  <thead>\n",
       "    <tr style=\"text-align: right;\">\n",
       "      <th></th>\n",
       "      <th>Uniq Id</th>\n",
       "      <th>Crawl Timestamp</th>\n",
       "      <th>Job Title</th>\n",
       "      <th>Job Salary</th>\n",
       "      <th>Job Experience Required</th>\n",
       "      <th>Key Skills</th>\n",
       "      <th>Role Category</th>\n",
       "      <th>Location</th>\n",
       "      <th>Functional Area</th>\n",
       "      <th>Industry</th>\n",
       "      <th>Role</th>\n",
       "    </tr>\n",
       "  </thead>\n",
       "  <tbody>\n",
       "    <tr>\n",
       "      <th>0</th>\n",
       "      <td>9be62c49a0b7ebe982a4af1edaa7bc5f</td>\n",
       "      <td>2019-07-05 01:46:07 +0000</td>\n",
       "      <td>Digital Media Planner</td>\n",
       "      <td>Not Disclosed by Recruiter</td>\n",
       "      <td>5 - 10 yrs</td>\n",
       "      <td>Media Planning| Digital Media</td>\n",
       "      <td>Advertising</td>\n",
       "      <td>Mumbai</td>\n",
       "      <td>Marketing , Advertising , MR , PR , Media Plan...</td>\n",
       "      <td>Advertising, PR, MR, Event Management</td>\n",
       "      <td>Media Planning Executive/Manager</td>\n",
       "    </tr>\n",
       "    <tr>\n",
       "      <th>1</th>\n",
       "      <td>3c52d436e39f596b22519da2612f6a56</td>\n",
       "      <td>2019-07-06 08:04:50 +0000</td>\n",
       "      <td>Online Bidding Executive</td>\n",
       "      <td>Not Disclosed by Recruiter</td>\n",
       "      <td>2 - 5 yrs</td>\n",
       "      <td>pre sales| closing| software knowledge| client...</td>\n",
       "      <td>Retail Sales</td>\n",
       "      <td>Pune,Pune</td>\n",
       "      <td>Sales , Retail , Business Development</td>\n",
       "      <td>IT-Software, Software Services</td>\n",
       "      <td>Sales Executive/Officer</td>\n",
       "    </tr>\n",
       "    <tr>\n",
       "      <th>2</th>\n",
       "      <td>ffad8a2396c60be2bf6d0e2ff47c58d4</td>\n",
       "      <td>2019-08-05 15:50:44 +0000</td>\n",
       "      <td>Trainee Research/ Research Executive- Hi- Tech...</td>\n",
       "      <td>Not Disclosed by Recruiter</td>\n",
       "      <td>0 - 1 yrs</td>\n",
       "      <td>Computer science| Fabrication| Quality check| ...</td>\n",
       "      <td>R&amp;D</td>\n",
       "      <td>Gurgaon</td>\n",
       "      <td>Engineering Design , R&amp;D</td>\n",
       "      <td>Recruitment, Staffing</td>\n",
       "      <td>R&amp;D Executive</td>\n",
       "    </tr>\n",
       "    <tr>\n",
       "      <th>3</th>\n",
       "      <td>7b921f51b5c2fb862b4a5f7a54c37f75</td>\n",
       "      <td>2019-08-05 15:31:56 +0000</td>\n",
       "      <td>Technical Support</td>\n",
       "      <td>2,00,000 - 4,00,000 PA.</td>\n",
       "      <td>0 - 5 yrs</td>\n",
       "      <td>Technical Support</td>\n",
       "      <td>Admin/Maintenance/Security/Datawarehousing</td>\n",
       "      <td>Mumbai</td>\n",
       "      <td>IT Software - Application Programming , Mainte...</td>\n",
       "      <td>IT-Software, Software Services</td>\n",
       "      <td>Technical Support Engineer</td>\n",
       "    </tr>\n",
       "    <tr>\n",
       "      <th>4</th>\n",
       "      <td>2d8b7d44e138a54d5dc841163138de50</td>\n",
       "      <td>2019-07-05 02:48:29 +0000</td>\n",
       "      <td>Software Test Engineer -hyderabad</td>\n",
       "      <td>Not Disclosed by Recruiter</td>\n",
       "      <td>2 - 5 yrs</td>\n",
       "      <td>manual testing| test engineering| test cases| ...</td>\n",
       "      <td>Programming &amp; Design</td>\n",
       "      <td>Hyderabad</td>\n",
       "      <td>IT Software - QA &amp; Testing</td>\n",
       "      <td>IT-Software, Software Services</td>\n",
       "      <td>Testing Engineer</td>\n",
       "    </tr>\n",
       "  </tbody>\n",
       "</table>\n",
       "</div>"
      ],
      "text/plain": [
       "                            Uniq Id            Crawl Timestamp  \\\n",
       "0  9be62c49a0b7ebe982a4af1edaa7bc5f  2019-07-05 01:46:07 +0000   \n",
       "1  3c52d436e39f596b22519da2612f6a56  2019-07-06 08:04:50 +0000   \n",
       "2  ffad8a2396c60be2bf6d0e2ff47c58d4  2019-08-05 15:50:44 +0000   \n",
       "3  7b921f51b5c2fb862b4a5f7a54c37f75  2019-08-05 15:31:56 +0000   \n",
       "4  2d8b7d44e138a54d5dc841163138de50  2019-07-05 02:48:29 +0000   \n",
       "\n",
       "                                           Job Title  \\\n",
       "0                              Digital Media Planner   \n",
       "1                           Online Bidding Executive   \n",
       "2  Trainee Research/ Research Executive- Hi- Tech...   \n",
       "3                                  Technical Support   \n",
       "4                  Software Test Engineer -hyderabad   \n",
       "\n",
       "                   Job Salary Job Experience Required  \\\n",
       "0  Not Disclosed by Recruiter              5 - 10 yrs   \n",
       "1  Not Disclosed by Recruiter               2 - 5 yrs   \n",
       "2  Not Disclosed by Recruiter               0 - 1 yrs   \n",
       "3    2,00,000 - 4,00,000 PA.                0 - 5 yrs   \n",
       "4  Not Disclosed by Recruiter               2 - 5 yrs   \n",
       "\n",
       "                                          Key Skills  \\\n",
       "0                      Media Planning| Digital Media   \n",
       "1  pre sales| closing| software knowledge| client...   \n",
       "2  Computer science| Fabrication| Quality check| ...   \n",
       "3                                  Technical Support   \n",
       "4  manual testing| test engineering| test cases| ...   \n",
       "\n",
       "                                Role Category   Location  \\\n",
       "0                                 Advertising     Mumbai   \n",
       "1                                Retail Sales  Pune,Pune   \n",
       "2                                         R&D    Gurgaon   \n",
       "3  Admin/Maintenance/Security/Datawarehousing     Mumbai   \n",
       "4                        Programming & Design  Hyderabad   \n",
       "\n",
       "                                     Functional Area  \\\n",
       "0  Marketing , Advertising , MR , PR , Media Plan...   \n",
       "1              Sales , Retail , Business Development   \n",
       "2                           Engineering Design , R&D   \n",
       "3  IT Software - Application Programming , Mainte...   \n",
       "4                         IT Software - QA & Testing   \n",
       "\n",
       "                                Industry                              Role  \n",
       "0  Advertising, PR, MR, Event Management  Media Planning Executive/Manager  \n",
       "1         IT-Software, Software Services           Sales Executive/Officer  \n",
       "2                  Recruitment, Staffing                     R&D Executive  \n",
       "3         IT-Software, Software Services        Technical Support Engineer  \n",
       "4         IT-Software, Software Services                  Testing Engineer  "
      ]
     },
     "execution_count": 3,
     "metadata": {},
     "output_type": "execute_result"
    }
   ],
   "source": [
    "jobs=pd.read_csv('jobs_naukri_1.csv', error_bad_lines=False,sep=',')\n",
    "jobs.head()"
   ]
  },
  {
   "cell_type": "code",
   "execution_count": 4,
   "id": "ce4eab8e",
   "metadata": {},
   "outputs": [
    {
     "data": {
      "text/plain": [
       "9"
      ]
     },
     "execution_count": 4,
     "metadata": {},
     "output_type": "execute_result"
    }
   ],
   "source": [
    "jobs.isnull().any().sum()"
   ]
  },
  {
   "cell_type": "code",
   "execution_count": 5,
   "id": "8f65ef48",
   "metadata": {},
   "outputs": [
    {
     "data": {
      "text/plain": [
       "Role Category              2149\n",
       "Key Skills                 1243\n",
       "Role                        790\n",
       "Location                    473\n",
       "Job Title                   471\n",
       "Job Experience Required     469\n",
       "Functional Area             469\n",
       "Industry                    469\n",
       "Job Salary                   51\n",
       "Uniq Id                       0\n",
       "Crawl Timestamp               0\n",
       "dtype: int64"
      ]
     },
     "execution_count": 5,
     "metadata": {},
     "output_type": "execute_result"
    }
   ],
   "source": [
    "jobs.isnull().sum().sort_values(ascending=False)"
   ]
  },
  {
   "cell_type": "code",
   "execution_count": 6,
   "id": "346ce669",
   "metadata": {},
   "outputs": [
    {
     "data": {
      "text/plain": [
       "(29786, 11)"
      ]
     },
     "execution_count": 6,
     "metadata": {},
     "output_type": "execute_result"
    }
   ],
   "source": [
    "jobs.shape"
   ]
  },
  {
   "cell_type": "code",
   "execution_count": 7,
   "id": "8e8483bc",
   "metadata": {},
   "outputs": [
    {
     "data": {
      "text/plain": [
       "array([['9be62c49a0b7ebe982a4af1edaa7bc5f', '2019-07-05 01:46:07 +0000',\n",
       "        'Digital Media Planner', ...,\n",
       "        'Marketing , Advertising , MR , PR , Media Planning',\n",
       "        'Advertising, PR, MR, Event Management',\n",
       "        'Media Planning Executive/Manager'],\n",
       "       ['3c52d436e39f596b22519da2612f6a56', '2019-07-06 08:04:50 +0000',\n",
       "        'Online Bidding Executive', ...,\n",
       "        'Sales , Retail , Business Development',\n",
       "        'IT-Software, Software Services', 'Sales Executive/Officer'],\n",
       "       ['ffad8a2396c60be2bf6d0e2ff47c58d4', '2019-08-05 15:50:44 +0000',\n",
       "        'Trainee Research/ Research Executive- Hi- Tech Operations', ...,\n",
       "        'Engineering Design , R&D', 'Recruitment, Staffing',\n",
       "        'R&D Executive'],\n",
       "       ...,\n",
       "       ['43d5b806b26ed99d3ebfc8f366b4cdd1', '2019-08-05 09:41:29 +0000',\n",
       "        'Assoc. Prof.- CS', ...,\n",
       "        'Teaching , Education , Training , Counselling',\n",
       "        'Education, Teaching, Training', 'Lecturer/Professor'],\n",
       "       ['8bc87d14cf56564f16b6d4bae80180be', '2019-08-06 01:44:55 +0000',\n",
       "        'Application/Cyber Security Specialist-Pune', ...,\n",
       "        'IT Software - Application Programming , Maintenance',\n",
       "        'IT-Software, Software Services', 'Software Developer'],\n",
       "       ['9c7045d111814a6f39fe461eab2b0bf8', '2019-07-06 22:24:55 +0000',\n",
       "        'Press Release Writer - SEO', ...,\n",
       "        'Marketing , Advertising , MR , PR , Media Planning',\n",
       "        'IT-Software, Software Services',\n",
       "        'Search Engine Optimisation /SEO Specialist']], dtype=object)"
      ]
     },
     "execution_count": 7,
     "metadata": {},
     "output_type": "execute_result"
    }
   ],
   "source": [
    "jobs.values"
   ]
  },
  {
   "cell_type": "code",
   "execution_count": 8,
   "id": "eccb2637",
   "metadata": {},
   "outputs": [
    {
     "data": {
      "text/plain": [
       "Index(['Uniq Id', 'Crawl Timestamp', 'Job Title', 'Job Salary',\n",
       "       'Job Experience Required', 'Key Skills', 'Role Category', 'Location',\n",
       "       'Functional Area', 'Industry', 'Role'],\n",
       "      dtype='object')"
      ]
     },
     "execution_count": 8,
     "metadata": {},
     "output_type": "execute_result"
    }
   ],
   "source": [
    "jobs.columns"
   ]
  },
  {
   "cell_type": "code",
   "execution_count": 9,
   "id": "47db93e1",
   "metadata": {},
   "outputs": [
    {
     "name": "stdout",
     "output_type": "stream",
     "text": [
      "<class 'pandas.core.frame.DataFrame'>\n",
      "RangeIndex: 29786 entries, 0 to 29785\n",
      "Data columns (total 11 columns):\n",
      " #   Column                   Non-Null Count  Dtype \n",
      "---  ------                   --------------  ----- \n",
      " 0   Uniq Id                  29786 non-null  object\n",
      " 1   Crawl Timestamp          29786 non-null  object\n",
      " 2   Job Title                29315 non-null  object\n",
      " 3   Job Salary               29735 non-null  object\n",
      " 4   Job Experience Required  29317 non-null  object\n",
      " 5   Key Skills               28543 non-null  object\n",
      " 6   Role Category            27637 non-null  object\n",
      " 7   Location                 29313 non-null  object\n",
      " 8   Functional Area          29317 non-null  object\n",
      " 9   Industry                 29317 non-null  object\n",
      " 10  Role                     28996 non-null  object\n",
      "dtypes: object(11)\n",
      "memory usage: 2.5+ MB\n"
     ]
    }
   ],
   "source": [
    "jobs.info()"
   ]
  },
  {
   "cell_type": "code",
   "execution_count": 10,
   "id": "d99bbe79",
   "metadata": {},
   "outputs": [
    {
     "data": {
      "text/plain": [
       "0                                       Advertising\n",
       "1                                      Retail Sales\n",
       "2                                               R&D\n",
       "3        Admin/Maintenance/Security/Datawarehousing\n",
       "4                              Programming & Design\n",
       "                            ...                    \n",
       "29781                          Programming & Design\n",
       "29782                                    Operations\n",
       "29783                              University Level\n",
       "29784                          Programming & Design\n",
       "29785                      Online/Digital Marketing\n",
       "Name: Role Category, Length: 29786, dtype: object"
      ]
     },
     "execution_count": 10,
     "metadata": {},
     "output_type": "execute_result"
    }
   ],
   "source": [
    "jobs['Role Category']"
   ]
  },
  {
   "cell_type": "code",
   "execution_count": 11,
   "id": "3c7bc922",
   "metadata": {},
   "outputs": [
    {
     "name": "stdout",
     "output_type": "stream",
     "text": [
      "Feature 'Uniq Id' has '29786'uniques categories\n",
      "Feature 'Crawl Timestamp' has '28670'uniques categories\n",
      "Feature 'Job Title' has '23587'uniques categories\n",
      "Feature 'Job Salary' has '1225'uniques categories\n",
      "Feature 'Job Experience Required' has '255'uniques categories\n",
      "Feature 'Key Skills' has '26730'uniques categories\n",
      "Feature 'Role Category' has '181'uniques categories\n",
      "Feature 'Location' has '2558'uniques categories\n",
      "Feature 'Functional Area' has '65'uniques categories\n",
      "Feature 'Industry' has '115'uniques categories\n",
      "Feature 'Role' has '624'uniques categories\n"
     ]
    }
   ],
   "source": [
    "for col_name in jobs.columns:\n",
    "    if jobs[col_name].dtypes=='object':\n",
    "        unique_cat=len(jobs[col_name].unique())\n",
    "        print(\"Feature '{col_name}' has '{unique_cat}'uniques categories\".format(col_name=col_name,unique_cat=unique_cat))"
   ]
  },
  {
   "cell_type": "code",
   "execution_count": 12,
   "id": "34583b66",
   "metadata": {},
   "outputs": [
    {
     "name": "stdout",
     "output_type": "stream",
     "text": [
      "Programming & Design                                                                                                                                                                                                                                                                                                                                                                                                                                                                                                                                                                                                                                                                                                                                                                                                                                                                                                                                                                                                                                                                                                                                                                                                                                                                                                                                                                                                                                                                                                                                                                                                                                                                                                                                                                                                                                                                                                                                                                                                                                                                                                                                                                                                                                                                                                                                                                                                                                                                                                                                                                                                                                                                                                                                                                                                                                                                                                                                                                                                                                                                                                                                                                                                                                                                                                                                                                                                                                                                                                                                                                                                                                                                                                                                                                                               8549\n",
      "Voice                                                                                                                                                                                                                                                                                                                                                                                                                                                                                                                                                                                                                                                                                                                                                                                                                                                                                                                                                                                                                                                                                                                                                                                                                                                                                                                                                                                                                                                                                                                                                                                                                                                                                                                                                                                                                                                                                                                                                                                                                                                                                                                                                                                                                                                                                                                                                                                                                                                                                                                                                                                                                                                                                                                                                                                                                                                                                                                                                                                                                                                                                                                                                                                                                                                                                                                                                                                                                                                                                                                                                                                                                                                                                                                                                                                                              2385\n",
      "Retail Sales                                                                                                                                                                                                                                                                                                                                                                                                                                                                                                                                                                                                                                                                                                                                                                                                                                                                                                                                                                                                                                                                                                                                                                                                                                                                                                                                                                                                                                                                                                                                                                                                                                                                                                                                                                                                                                                                                                                                                                                                                                                                                                                                                                                                                                                                                                                                                                                                                                                                                                                                                                                                                                                                                                                                                                                                                                                                                                                                                                                                                                                                                                                                                                                                                                                                                                                                                                                                                                                                                                                                                                                                                                                                                                                                                                                                       2359\n",
      "HR/ Recruitment / IR                                                                                                                                                                                                                                                                                                                                                                                                                                                                                                                                                                                                                                                                                                                                                                                                                                                                                                                                                                                                                                                                                                                                                                                                                                                                                                                                                                                                                                                                                                                                                                                                                                                                                                                                                                                                                                                                                                                                                                                                                                                                                                                                                                                                                                                                                                                                                                                                                                                                                                                                                                                                                                                                                                                                                                                                                                                                                                                                                                                                                                                                                                                                                                                                                                                                                                                                                                                                                                                                                                                                                                                                                                                                                                                                                                                               1133\n",
      "Admin/Maintenance/Security/Datawarehousing                                                                                                                                                                                                                                                                                                                                                                                                                                                                                                                                                                                                                                                                                                                                                                                                                                                                                                                                                                                                                                                                                                                                                                                                                                                                                                                                                                                                                                                                                                                                                                                                                                                                                                                                                                                                                                                                                                                                                                                                                                                                                                                                                                                                                                                                                                                                                                                                                                                                                                                                                                                                                                                                                                                                                                                                                                                                                                                                                                                                                                                                                                                                                                                                                                                                                                                                                                                                                                                                                                                                                                                                                                                                                                                                                                          924\n",
      "                                                                                                                                                                                                                                                                                                                                                                                                                                                                                                                                                                                                                                                                                                                                                                                                                                                                                                                                                                                                                                                                                                                                                                                                                                                                                                                                                                                                                                                                                                                                                                                                                                                                                                                                                                                                                                                                                                                                                                                                                                                                                                                                                                                                                                                                                                                                                                                                                                                                                                                                                                                                                                                                                                                                                                                                                                                                                                                                                                                                                                                                                                                                                                                                                                                                                                                                                                                                                                                                                                                                                                                                                                                                                                                                                                                                                   ... \n",
      "Company Profile Hari Darshan Sevashram (P) Ltd Hari Darshan Group is one of the largest manufacturers of Dhoop, Agarbathies, Pooja Products and Home Fragrances. The brand has been a household name across india over last many decades. Hari Darshan offers Professional, Ethical & Secure work environment for it's employees couples with career growth prospects. For more details about company you can log on to- www.haridarshan.com www.risingsun.in www.inatur.in                                                                                                                                                                                                                                                                                                                                                                                                                                                                                                                                                                                                                                                                                                                                                                                                                                                                                                                                                                                                                                                                                                                                                                                                                                                                                                                                                                                                                                                                                                                                                                                                                                                                                                                                                                                                                                                                                                                                                                                                                                                                                                                                                                                                                                                                                                                                                                                                                                                                                                                                                                                                                                                                                                                                                                                                                                                                                                                                                                                                                                                                                                                                                                                                                                                                                                                                           1\n",
      "Apeejay Education society                                                                                                                                                                                                                                                                                                                                                                                                                                                                                                                                                                                                                                                                                                                                                                                                                                                                                                                                                                                                                                                                                                                                                                                                                                                                                                                                                                                                                                                                                                                                                                                                                                                                                                                                                                                                                                                                                                                                                                                                                                                                                                                                                                                                                                                                                                                                                                                                                                                                                                                                                                                                                                                                                                                                                                                                                                                                                                                                                                                                                                                                                                                                                                                                                                                                                                                                                                                                                                                                                                                                                                                                                                                                                                                                                                                             1\n",
      " Job Description: Selling Partner Support-GERMAN Amazon.com strives to be Earth's most customer-centric company where people can find and discover virtually anything they want to buy online. By giving customers more of what they want - low prices, vast selection, and convenience - Amazon.com continues to grow and evolve as a world-class e-commerce platform. Amazon's evolution from Web site to e-commerce partner to development platform is driven by the spirit of innovation that is part of the company's DNA. The world's brightest technology minds come to Amazon.com to research and develop technology that improves the lives of shoppers and sellers around the world. The Selling Partner Support Associate acts as the primary interface between Amazon and our German business partners. The Selling Partner Support Associate will be responsible for providing timely and accurate operational support to German Merchants selling on the Amazon platform. The successful candidate has an immediate, distinct effect on the experience of customers of Amazon, making a strong record of customer focus a high standard for the role. A Seller Support Associate is expected to address chronic system issues, provide process improvements, develop internal documentation, and contribute to a team environment, all while adhering to service level agreements for phone and/or email cases. Basic Qualifications Completed Bachelors degree or higher Language: German (B2.2 certification or above) Ability to work in shifts Experience within a customer service environment preferred. Desire to expand skills into new areas. Technical (Computers & Internet) savvy is required. Business acumen in areas of e-commerce and retail. Experience with e-commerce, as a consumer it is an essential requirement (payments, browsing, shipping, returns, etc) Committed seller advocate, drive process & tool improvements. Enthusiasm and strong self-motivation. Strong prioritization and time management skills, with a high degree of flexibility. Embrace constant change with flexibility and good grace. Demonstrate appropriate sense of urgency for contact response time in the face of variable workflow. Demonstrates effective communication, composure, and professional attitude Exemplary performance record, particularly with regard to quality & productivity Desired skill-sets include MS Office Application Excel and Internet Explorer / Mozilla Firefox Summary of Responsibilities Demonstrates effective, clear and professional written and oral communication. Provides prompt and efficient service to Amazon Sellers and Merchants including the appropriate escalation of Sellers issues. Builds Platform and business knowledge to better serve sellers Maintains a positive and professional demeanor always portraying the company in a positive light and effectively managing sensitive issues. Demonstrates excellent time-management skills and the ability to work independently knowledge while using departmental resources, policies and procedures. Contributes to a positive team environment and proactively aids team members with difficult contacts as needed. Maintains acceptable performance metrics such as quality, productivity, first contact resolution, and attendance. Actively seeks solutions through logical reasoning and data interpretation skills and identifies trends to appropriate channel including improvement suggestions. Liaise with other departments such as Customer Service, Merchant Investigations, or Payments teams as required to resolve Sellers issues and ques Salary: INR 5,00,000 - 7,00,000 PA. Industry: Other Functional Area: Other Employment Type: Permanent Job, Full Time        1\n",
      "Solugenix is an information technology services firm that has a rich history of providing comprehensive technology services and solutions for more than four decades. As a pioneer in IT services, we've partnered with some of the biggest global corporations across many industries. Our history was built on a foundation of partnerships with global brands like McDonald's, Microsoft, CIT Group, Johnson & Johnson, Herbalife, Sony Pictures Entertainment, and many others. Whether it's providing dedicated support centres, staffing quality teams, or delivering business service solutions, clients can always count on Solugenix.                                                                                                                                                                                                                                                                                                                                                                                                                                                                                                                                                                                                                                                                                                                                                                                                                                                                                                                                                                                                                                                                                                                                                                                                                                                                                                                                                                                                                                                                                                                                                                                                                                                                                                                                                                                                                                                                                                                                                                                                                                                                                                                                                                                                                                                                                                                                                                                                                                                                                                                                                                                                                                                                                                                                                                                                                                                                                                                                                                                                                                                                                                                                                                        1\n",
      "Magma Fincorp Limited (formerly Magma Leasing Limited), headquartered in Kolkata (India) was incorporated in 1988 and commenced operations in 1989 in Kolkata. Registered with the Reserve Bank of India as an asset financing NBFC, we have grown to be one of India's large retail-finance companies and have built a total assets under management of more than Rs.11, 860 crore. We have a wide operating footprint in India with 280+ branches across 21 States/UT in the country. The Magma family comprises over 8000+ 'Magma-ites', working across different functional verticals. We have serviced over 575,000 customers and have more than 270,000 live customers as of date. We not only provide a one-stop-shop financing facility to our customers, but also fulfil the dreams of millions of first-time entrepreneurs; catalyzing local economies and helping the nation grow. Magma is listed on National Stock Exchange and Bombay Stock Exchange. We have a diversified product- portfolio spanning over several products and services, including financing of Utility Vehicles & Cars, Commercial Vehicles, Construction Equipments, Tractors, Suvidha (Refinance), SME Loan Home Loan and Insurance. Our Asset Finance division, which is our largest division, is focused on providing loans and financial services for purchase of cars, two-wheelers, construction equipment, commercial vehicles, used vehicles and also auto leasing services to our broad range of customers. Website: http://www.magma.co.in                                                                                                                                                                                                                                                                                                                                                                                                                                                                                                                                                                                                                                                                                                                                                                                                                                                                                                                                                                                                                                                                                                                                                                                                                                                                                                                                                                                                                                                                                                                                                                                                                                                                                                                                                                                                                                                                                                                                                                                                                                                                                                                                                                                                                                                                               1\n",
      "Name: Role Category, Length: 180, dtype: int64\n"
     ]
    }
   ],
   "source": [
    "print(jobs['Role Category'].value_counts())"
   ]
  },
  {
   "cell_type": "code",
   "execution_count": 13,
   "id": "93085734",
   "metadata": {},
   "outputs": [],
   "source": [
    "jobs_enhanced=jobs['Role Category'].value_counts()>=20"
   ]
  },
  {
   "cell_type": "code",
   "execution_count": 14,
   "id": "4c0ea910",
   "metadata": {},
   "outputs": [
    {
     "data": {
      "text/plain": [
       "Programming & Design                          True\n",
       "Voice                                         True\n",
       "Retail Sales                                  True\n",
       "HR/ Recruitment / IR                          True\n",
       "Admin/Maintenance/Security/Datawarehousing    True\n",
       "Name: Role Category, dtype: bool"
      ]
     },
     "execution_count": 14,
     "metadata": {},
     "output_type": "execute_result"
    }
   ],
   "source": [
    "jobs_enhanced.head()"
   ]
  },
  {
   "cell_type": "code",
   "execution_count": 15,
   "id": "033e9aad",
   "metadata": {},
   "outputs": [
    {
     "data": {
      "text/plain": [
       "(65,)"
      ]
     },
     "execution_count": 15,
     "metadata": {},
     "output_type": "execute_result"
    }
   ],
   "source": [
    "jobs_enhanced[jobs_enhanced].shape"
   ]
  },
  {
   "cell_type": "code",
   "execution_count": 16,
   "id": "590967a7",
   "metadata": {},
   "outputs": [],
   "source": [
    "roles=jobs_enhanced[jobs_enhanced].index"
   ]
  },
  {
   "cell_type": "code",
   "execution_count": 17,
   "id": "e64321da",
   "metadata": {},
   "outputs": [
    {
     "data": {
      "text/plain": [
       "Index(['Programming & Design', 'Voice', 'Retail Sales', 'HR/ Recruitment / IR',\n",
       "       'Admin/Maintenance/Security/Datawarehousing', 'Accounts',\n",
       "       'Senior Management', 'Other', 'Corporate Sales',\n",
       "       'Production/Manufacturing/Maintenance',\n",
       "       'System Design/Implementation/ERP/CRM', 'Marketing',\n",
       "       'Medical Professional', 'Creative', 'Engineering Design',\n",
       "       'Finance/Audit', 'Teachers', 'Project Management', 'University Level',\n",
       "       'Back Office/Web/Transaction Processing', 'Institutional Sales',\n",
       "       'Site Engineering', 'Retail/Personal Banking', 'Channel Sales',\n",
       "       'Analytics & BI', 'R&D', 'Content Development',\n",
       "       'Purchase/Material Management', 'Operations', 'Food & Beverage',\n",
       "       'Sales Support', 'Administration/Facility Management', 'Logistics',\n",
       "       'Advertising', 'Online/Digital Marketing',\n",
       "       'Corporate Planning/Consulting/Strategy', 'QA/Testing/Documentation',\n",
       "       'Ticketing/Travel/Documentation', 'Technical Support',\n",
       "       'Operations/Processes/Finance/Legal',\n",
       "       'Life Insurance/Financial Services', 'Quality', 'Corporate Banking',\n",
       "       'Architectural Services', 'IT Hardware', 'Designer',\n",
       "       'Financial Services/Stock Broking', 'Front Office/Customer Care',\n",
       "       'Drug Regulatory Affairs/Documentation', 'Marketing Research',\n",
       "       'Investment Banking', 'Documentation/Shipping', 'Training',\n",
       "       'Interior Design', 'Mutual Funds/Fund Management/Asset Management',\n",
       "       'Safety/Health/Environment', 'Journalist/Writer', 'Pre Sales',\n",
       "       'Production/Merchandising/Business Development', 'Treasury',\n",
       "       'Production/Technical', 'Public Relations', 'General Insurance',\n",
       "       'Housekeeping', 'After Sales Service'],\n",
       "      dtype='object')"
      ]
     },
     "execution_count": 17,
     "metadata": {},
     "output_type": "execute_result"
    }
   ],
   "source": [
    "roles"
   ]
  },
  {
   "cell_type": "code",
   "execution_count": 18,
   "id": "a3f64504",
   "metadata": {},
   "outputs": [],
   "source": [
    "jobs=jobs[jobs['Role Category'].isin(roles)]"
   ]
  },
  {
   "cell_type": "code",
   "execution_count": 19,
   "id": "9b60d116",
   "metadata": {},
   "outputs": [
    {
     "data": {
      "text/html": [
       "<div>\n",
       "<style scoped>\n",
       "    .dataframe tbody tr th:only-of-type {\n",
       "        vertical-align: middle;\n",
       "    }\n",
       "\n",
       "    .dataframe tbody tr th {\n",
       "        vertical-align: top;\n",
       "    }\n",
       "\n",
       "    .dataframe thead th {\n",
       "        text-align: right;\n",
       "    }\n",
       "</style>\n",
       "<table border=\"1\" class=\"dataframe\">\n",
       "  <thead>\n",
       "    <tr style=\"text-align: right;\">\n",
       "      <th></th>\n",
       "      <th>Uniq Id</th>\n",
       "      <th>Crawl Timestamp</th>\n",
       "      <th>Job Title</th>\n",
       "      <th>Job Salary</th>\n",
       "      <th>Job Experience Required</th>\n",
       "      <th>Key Skills</th>\n",
       "      <th>Role Category</th>\n",
       "      <th>Location</th>\n",
       "      <th>Functional Area</th>\n",
       "      <th>Industry</th>\n",
       "      <th>Role</th>\n",
       "    </tr>\n",
       "  </thead>\n",
       "  <tbody>\n",
       "    <tr>\n",
       "      <th>0</th>\n",
       "      <td>9be62c49a0b7ebe982a4af1edaa7bc5f</td>\n",
       "      <td>2019-07-05 01:46:07 +0000</td>\n",
       "      <td>Digital Media Planner</td>\n",
       "      <td>Not Disclosed by Recruiter</td>\n",
       "      <td>5 - 10 yrs</td>\n",
       "      <td>Media Planning| Digital Media</td>\n",
       "      <td>Advertising</td>\n",
       "      <td>Mumbai</td>\n",
       "      <td>Marketing , Advertising , MR , PR , Media Plan...</td>\n",
       "      <td>Advertising, PR, MR, Event Management</td>\n",
       "      <td>Media Planning Executive/Manager</td>\n",
       "    </tr>\n",
       "    <tr>\n",
       "      <th>1</th>\n",
       "      <td>3c52d436e39f596b22519da2612f6a56</td>\n",
       "      <td>2019-07-06 08:04:50 +0000</td>\n",
       "      <td>Online Bidding Executive</td>\n",
       "      <td>Not Disclosed by Recruiter</td>\n",
       "      <td>2 - 5 yrs</td>\n",
       "      <td>pre sales| closing| software knowledge| client...</td>\n",
       "      <td>Retail Sales</td>\n",
       "      <td>Pune,Pune</td>\n",
       "      <td>Sales , Retail , Business Development</td>\n",
       "      <td>IT-Software, Software Services</td>\n",
       "      <td>Sales Executive/Officer</td>\n",
       "    </tr>\n",
       "    <tr>\n",
       "      <th>2</th>\n",
       "      <td>ffad8a2396c60be2bf6d0e2ff47c58d4</td>\n",
       "      <td>2019-08-05 15:50:44 +0000</td>\n",
       "      <td>Trainee Research/ Research Executive- Hi- Tech...</td>\n",
       "      <td>Not Disclosed by Recruiter</td>\n",
       "      <td>0 - 1 yrs</td>\n",
       "      <td>Computer science| Fabrication| Quality check| ...</td>\n",
       "      <td>R&amp;D</td>\n",
       "      <td>Gurgaon</td>\n",
       "      <td>Engineering Design , R&amp;D</td>\n",
       "      <td>Recruitment, Staffing</td>\n",
       "      <td>R&amp;D Executive</td>\n",
       "    </tr>\n",
       "    <tr>\n",
       "      <th>3</th>\n",
       "      <td>7b921f51b5c2fb862b4a5f7a54c37f75</td>\n",
       "      <td>2019-08-05 15:31:56 +0000</td>\n",
       "      <td>Technical Support</td>\n",
       "      <td>2,00,000 - 4,00,000 PA.</td>\n",
       "      <td>0 - 5 yrs</td>\n",
       "      <td>Technical Support</td>\n",
       "      <td>Admin/Maintenance/Security/Datawarehousing</td>\n",
       "      <td>Mumbai</td>\n",
       "      <td>IT Software - Application Programming , Mainte...</td>\n",
       "      <td>IT-Software, Software Services</td>\n",
       "      <td>Technical Support Engineer</td>\n",
       "    </tr>\n",
       "    <tr>\n",
       "      <th>4</th>\n",
       "      <td>2d8b7d44e138a54d5dc841163138de50</td>\n",
       "      <td>2019-07-05 02:48:29 +0000</td>\n",
       "      <td>Software Test Engineer -hyderabad</td>\n",
       "      <td>Not Disclosed by Recruiter</td>\n",
       "      <td>2 - 5 yrs</td>\n",
       "      <td>manual testing| test engineering| test cases| ...</td>\n",
       "      <td>Programming &amp; Design</td>\n",
       "      <td>Hyderabad</td>\n",
       "      <td>IT Software - QA &amp; Testing</td>\n",
       "      <td>IT-Software, Software Services</td>\n",
       "      <td>Testing Engineer</td>\n",
       "    </tr>\n",
       "  </tbody>\n",
       "</table>\n",
       "</div>"
      ],
      "text/plain": [
       "                            Uniq Id            Crawl Timestamp  \\\n",
       "0  9be62c49a0b7ebe982a4af1edaa7bc5f  2019-07-05 01:46:07 +0000   \n",
       "1  3c52d436e39f596b22519da2612f6a56  2019-07-06 08:04:50 +0000   \n",
       "2  ffad8a2396c60be2bf6d0e2ff47c58d4  2019-08-05 15:50:44 +0000   \n",
       "3  7b921f51b5c2fb862b4a5f7a54c37f75  2019-08-05 15:31:56 +0000   \n",
       "4  2d8b7d44e138a54d5dc841163138de50  2019-07-05 02:48:29 +0000   \n",
       "\n",
       "                                           Job Title  \\\n",
       "0                              Digital Media Planner   \n",
       "1                           Online Bidding Executive   \n",
       "2  Trainee Research/ Research Executive- Hi- Tech...   \n",
       "3                                  Technical Support   \n",
       "4                  Software Test Engineer -hyderabad   \n",
       "\n",
       "                   Job Salary Job Experience Required  \\\n",
       "0  Not Disclosed by Recruiter              5 - 10 yrs   \n",
       "1  Not Disclosed by Recruiter               2 - 5 yrs   \n",
       "2  Not Disclosed by Recruiter               0 - 1 yrs   \n",
       "3    2,00,000 - 4,00,000 PA.                0 - 5 yrs   \n",
       "4  Not Disclosed by Recruiter               2 - 5 yrs   \n",
       "\n",
       "                                          Key Skills  \\\n",
       "0                      Media Planning| Digital Media   \n",
       "1  pre sales| closing| software knowledge| client...   \n",
       "2  Computer science| Fabrication| Quality check| ...   \n",
       "3                                  Technical Support   \n",
       "4  manual testing| test engineering| test cases| ...   \n",
       "\n",
       "                                Role Category   Location  \\\n",
       "0                                 Advertising     Mumbai   \n",
       "1                                Retail Sales  Pune,Pune   \n",
       "2                                         R&D    Gurgaon   \n",
       "3  Admin/Maintenance/Security/Datawarehousing     Mumbai   \n",
       "4                        Programming & Design  Hyderabad   \n",
       "\n",
       "                                     Functional Area  \\\n",
       "0  Marketing , Advertising , MR , PR , Media Plan...   \n",
       "1              Sales , Retail , Business Development   \n",
       "2                           Engineering Design , R&D   \n",
       "3  IT Software - Application Programming , Mainte...   \n",
       "4                         IT Software - QA & Testing   \n",
       "\n",
       "                                Industry                              Role  \n",
       "0  Advertising, PR, MR, Event Management  Media Planning Executive/Manager  \n",
       "1         IT-Software, Software Services           Sales Executive/Officer  \n",
       "2                  Recruitment, Staffing                     R&D Executive  \n",
       "3         IT-Software, Software Services        Technical Support Engineer  \n",
       "4         IT-Software, Software Services                  Testing Engineer  "
      ]
     },
     "execution_count": 19,
     "metadata": {},
     "output_type": "execute_result"
    }
   ],
   "source": [
    "jobs.head()"
   ]
  },
  {
   "cell_type": "code",
   "execution_count": 20,
   "id": "14123245",
   "metadata": {},
   "outputs": [
    {
     "data": {
      "text/plain": [
       "(27355, 11)"
      ]
     },
     "execution_count": 20,
     "metadata": {},
     "output_type": "execute_result"
    }
   ],
   "source": [
    "jobs.shape"
   ]
  },
  {
   "cell_type": "code",
   "execution_count": 21,
   "id": "8a4bcacf",
   "metadata": {},
   "outputs": [
    {
     "name": "stdout",
     "output_type": "stream",
     "text": [
      "Programming & Design                          8549\n",
      "Voice                                         2385\n",
      "Retail Sales                                  2359\n",
      "HR/ Recruitment / IR                          1133\n",
      "Admin/Maintenance/Security/Datawarehousing     924\n",
      "                                              ... \n",
      "Public Relations                                24\n",
      "Production/Technical                            24\n",
      "General Insurance                               23\n",
      "Housekeeping                                    21\n",
      "After Sales Service                             20\n",
      "Name: Role Category, Length: 65, dtype: int64\n"
     ]
    }
   ],
   "source": [
    "print(jobs['Role Category'].value_counts())"
   ]
  },
  {
   "cell_type": "code",
   "execution_count": 22,
   "id": "5abd8b02",
   "metadata": {},
   "outputs": [],
   "source": [
    "roles_enhanced=jobs['Industry'].value_counts()>=20"
   ]
  },
  {
   "cell_type": "code",
   "execution_count": 23,
   "id": "866f3e7e",
   "metadata": {},
   "outputs": [
    {
     "data": {
      "text/plain": [
       "IT-Software, Software Services           True\n",
       "Recruitment, Staffing                    True\n",
       "BPO, Call Centre, ITeS                   True\n",
       "Banking, Financial Services, Broking     True\n",
       "Education, Teaching, Training            True\n",
       "                                        ...  \n",
       "Gems / Jewellery                        False\n",
       "Heat Ventilation / Air Conditioning     False\n",
       "Architecture / Interior Design          False\n",
       "Glass / Glassware                       False\n",
       "Export / Import                         False\n",
       "Name: Industry, Length: 100, dtype: bool"
      ]
     },
     "execution_count": 23,
     "metadata": {},
     "output_type": "execute_result"
    }
   ],
   "source": [
    "roles_enhanced"
   ]
  },
  {
   "cell_type": "code",
   "execution_count": 24,
   "id": "038937a9",
   "metadata": {},
   "outputs": [
    {
     "data": {
      "text/plain": [
       "(63,)"
      ]
     },
     "execution_count": 24,
     "metadata": {},
     "output_type": "execute_result"
    }
   ],
   "source": [
    "roles_enhanced[roles_enhanced].shape"
   ]
  },
  {
   "cell_type": "code",
   "execution_count": 25,
   "id": "0b62afee",
   "metadata": {},
   "outputs": [],
   "source": [
    "industry=roles_enhanced[roles_enhanced].index"
   ]
  },
  {
   "cell_type": "code",
   "execution_count": 26,
   "id": "9b19e0b2",
   "metadata": {},
   "outputs": [
    {
     "name": "stdout",
     "output_type": "stream",
     "text": [
      "   Accounting / Finance  Accounting, Finance  \\\n",
      "0                     0                    0   \n",
      "1                     0                    0   \n",
      "2                     0                    0   \n",
      "3                     0                    0   \n",
      "4                     0                    0   \n",
      "\n",
      "   Advertising / PR / MR / Event Management  \\\n",
      "0                                         0   \n",
      "1                                         0   \n",
      "2                                         0   \n",
      "3                                         0   \n",
      "4                                         0   \n",
      "\n",
      "   Advertising, PR, MR, Event Management  Agriculture / Dairy  \\\n",
      "0                                      1                    0   \n",
      "1                                      0                    0   \n",
      "2                                      0                    0   \n",
      "3                                      0                    0   \n",
      "4                                      0                    0   \n",
      "\n",
      "   Agriculture, Dairy  Animation, Gaming  Architecture / Interior Design  \\\n",
      "0                   0                  0                               0   \n",
      "1                   0                  0                               0   \n",
      "2                   0                  0                               0   \n",
      "3                   0                  0                               0   \n",
      "4                   0                  0                               0   \n",
      "\n",
      "   Architecture, Interior Design  \\\n",
      "0                              0   \n",
      "1                              0   \n",
      "2                              0   \n",
      "3                              0   \n",
      "4                              0   \n",
      "\n",
      "   Automobile / Auto Anciliary / Auto Components  ...  Sugar  Telcom, ISP  \\\n",
      "0                                              0  ...      0            0   \n",
      "1                                              0  ...      0            0   \n",
      "2                                              0  ...      0            0   \n",
      "3                                              0  ...      0            0   \n",
      "4                                              0  ...      0            0   \n",
      "\n",
      "   Telecom / ISP  Textiles / Garments / Accessories  \\\n",
      "0              0                                  0   \n",
      "1              0                                  0   \n",
      "2              0                                  0   \n",
      "3              0                                  0   \n",
      "4              0                                  0   \n",
      "\n",
      "   Textiles, Garments, Accessories  \\\n",
      "0                                0   \n",
      "1                                0   \n",
      "2                                0   \n",
      "3                                0   \n",
      "4                                0   \n",
      "\n",
      "   Travel , Hotels , Restaurants , Airlines , Railways  \\\n",
      "0                                                  0     \n",
      "1                                                  0     \n",
      "2                                                  0     \n",
      "3                                                  0     \n",
      "4                                                  0     \n",
      "\n",
      "   Travel / Hotels / Restaurants / Airlines / Railways  Tyres  \\\n",
      "0                                                  0        0   \n",
      "1                                                  0        0   \n",
      "2                                                  0        0   \n",
      "3                                                  0        0   \n",
      "4                                                  0        0   \n",
      "\n",
      "   Water Treatment, Waste Management  Wellness , Fitness , Sports, Beauty  \n",
      "0                                  0                                    0  \n",
      "1                                  0                                    0  \n",
      "2                                  0                                    0  \n",
      "3                                  0                                    0  \n",
      "4                                  0                                    0  \n",
      "\n",
      "[5 rows x 100 columns]\n"
     ]
    }
   ],
   "source": [
    "print(pd.get_dummies(jobs['Industry']).head(5))"
   ]
  },
  {
   "cell_type": "code",
   "execution_count": 27,
   "id": "6d131abc",
   "metadata": {},
   "outputs": [
    {
     "data": {
      "text/plain": [
       "Index(['IT-Software, Software Services', 'Recruitment, Staffing',\n",
       "       'BPO, Call Centre, ITeS', 'Banking, Financial Services, Broking',\n",
       "       'Education, Teaching, Training', 'IT-Software / Software Services',\n",
       "       'Medical, Healthcare, Hospitals', 'Internet, Ecommerce',\n",
       "       'Construction, Engineering, Cement, Metals',\n",
       "       'Strategy, Management Consulting Firms',\n",
       "       'Travel , Hotels , Restaurants , Airlines , Railways',\n",
       "       'Automobile, Auto Anciliary, Auto Components',\n",
       "       'Pharma, Biotech, Clinical Research', 'Media, Entertainment, Internet',\n",
       "       'Industrial Products, Heavy Machinery',\n",
       "       'Advertising, PR, MR, Event Management', 'Insurance',\n",
       "       'Real Estate, Property', 'Accounting, Finance', 'Retail, Wholesale',\n",
       "       'FMCG, Foods, Beverage', 'Oil and Gas, Energy, Power, Infrastructure',\n",
       "       'Telcom, ISP', 'IT-Hardware & Networking', 'KPO, Research, Analytics',\n",
       "       'Other', 'Semiconductors, Electronics',\n",
       "       'Courier, Transportation, Freight , Warehousing',\n",
       "       'BPO / Call Centre / ITES', 'Chemicals, PetroChemical, Plastic, Rubber',\n",
       "       'Consumer Electronics, Appliances, Durables',\n",
       "       'Textiles, Garments, Accessories', 'Architecture, Interior Design',\n",
       "       'Electricals, Switchgears', 'Banking / Financial Services / Broking',\n",
       "       'NGO, Social Services, Regulators, Industry Associations',\n",
       "       'Pharma / Biotech / Clinical Research', 'Printing, Packaging',\n",
       "       'Publishing', 'Agriculture, Dairy',\n",
       "       'Wellness , Fitness , Sports, Beauty', 'Accounting / Finance',\n",
       "       'Export, Import', 'Aviation, Aerospace, Aeronautical',\n",
       "       'Office Equipment, Automation', 'Water Treatment, Waste Management',\n",
       "       'Facility Management', 'Telecom / ISP', 'Animation, Gaming',\n",
       "       'Iron and Steel', 'Heat Ventilation, Air Conditioning',\n",
       "       'Internet / Ecommerce', 'Gems, Jewellery',\n",
       "       'Semiconductors / Electronics',\n",
       "       'Travel / Hotels / Restaurants / Airlines / Railways',\n",
       "       'Ceramics, Sanitary ware', 'Shipping, Marine',\n",
       "       'Medical Devices / Equipments', 'Security, Law Enforcement',\n",
       "       'Recruitment / Staffing', 'Food Processing', 'Legal',\n",
       "       'Education / Teaching / Training'],\n",
       "      dtype='object')"
      ]
     },
     "execution_count": 27,
     "metadata": {},
     "output_type": "execute_result"
    }
   ],
   "source": [
    "industry"
   ]
  },
  {
   "cell_type": "code",
   "execution_count": 28,
   "id": "c7a136e6",
   "metadata": {},
   "outputs": [],
   "source": [
    "jobs=jobs[jobs['Industry'].isin(industry)]"
   ]
  },
  {
   "cell_type": "code",
   "execution_count": 29,
   "id": "8603d255",
   "metadata": {},
   "outputs": [
    {
     "data": {
      "text/plain": [
       "(27087, 11)"
      ]
     },
     "execution_count": 29,
     "metadata": {},
     "output_type": "execute_result"
    }
   ],
   "source": [
    "jobs.shape"
   ]
  },
  {
   "cell_type": "code",
   "execution_count": 30,
   "id": "1af665c0",
   "metadata": {},
   "outputs": [
    {
     "name": "stdout",
     "output_type": "stream",
     "text": [
      "IT-Software, Software Services          9818\n",
      "Recruitment, Staffing                   2640\n",
      "BPO, Call Centre, ITeS                  1711\n",
      "Banking, Financial Services, Broking    1569\n",
      "Education, Teaching, Training           1043\n",
      "                                        ... \n",
      "Medical Devices / Equipments              23\n",
      "Food Processing                           22\n",
      "Recruitment / Staffing                    22\n",
      "Legal                                     20\n",
      "Education / Teaching / Training           20\n",
      "Name: Industry, Length: 63, dtype: int64\n"
     ]
    }
   ],
   "source": [
    "print(jobs['Industry'].value_counts())"
   ]
  },
  {
   "cell_type": "code",
   "execution_count": 31,
   "id": "cfef413d",
   "metadata": {},
   "outputs": [
    {
     "data": {
      "text/html": [
       "<div>\n",
       "<style scoped>\n",
       "    .dataframe tbody tr th:only-of-type {\n",
       "        vertical-align: middle;\n",
       "    }\n",
       "\n",
       "    .dataframe tbody tr th {\n",
       "        vertical-align: top;\n",
       "    }\n",
       "\n",
       "    .dataframe thead th {\n",
       "        text-align: right;\n",
       "    }\n",
       "</style>\n",
       "<table border=\"1\" class=\"dataframe\">\n",
       "  <thead>\n",
       "    <tr style=\"text-align: right;\">\n",
       "      <th></th>\n",
       "      <th>Uniq Id</th>\n",
       "      <th>Crawl Timestamp</th>\n",
       "      <th>Job Title</th>\n",
       "      <th>Job Salary</th>\n",
       "      <th>Job Experience Required</th>\n",
       "      <th>Key Skills</th>\n",
       "      <th>Role Category</th>\n",
       "      <th>Location</th>\n",
       "      <th>Functional Area</th>\n",
       "      <th>Industry</th>\n",
       "      <th>Role</th>\n",
       "    </tr>\n",
       "  </thead>\n",
       "  <tbody>\n",
       "    <tr>\n",
       "      <th>0</th>\n",
       "      <td>9be62c49a0b7ebe982a4af1edaa7bc5f</td>\n",
       "      <td>2019-07-05 01:46:07 +0000</td>\n",
       "      <td>Digital Media Planner</td>\n",
       "      <td>Not Disclosed by Recruiter</td>\n",
       "      <td>5 - 10 yrs</td>\n",
       "      <td>Media Planning| Digital Media</td>\n",
       "      <td>Advertising</td>\n",
       "      <td>Mumbai</td>\n",
       "      <td>Marketing , Advertising , MR , PR , Media Plan...</td>\n",
       "      <td>Advertising, PR, MR, Event Management</td>\n",
       "      <td>Media Planning Executive/Manager</td>\n",
       "    </tr>\n",
       "    <tr>\n",
       "      <th>1</th>\n",
       "      <td>3c52d436e39f596b22519da2612f6a56</td>\n",
       "      <td>2019-07-06 08:04:50 +0000</td>\n",
       "      <td>Online Bidding Executive</td>\n",
       "      <td>Not Disclosed by Recruiter</td>\n",
       "      <td>2 - 5 yrs</td>\n",
       "      <td>pre sales| closing| software knowledge| client...</td>\n",
       "      <td>Retail Sales</td>\n",
       "      <td>Pune,Pune</td>\n",
       "      <td>Sales , Retail , Business Development</td>\n",
       "      <td>IT-Software, Software Services</td>\n",
       "      <td>Sales Executive/Officer</td>\n",
       "    </tr>\n",
       "    <tr>\n",
       "      <th>2</th>\n",
       "      <td>ffad8a2396c60be2bf6d0e2ff47c58d4</td>\n",
       "      <td>2019-08-05 15:50:44 +0000</td>\n",
       "      <td>Trainee Research/ Research Executive- Hi- Tech...</td>\n",
       "      <td>Not Disclosed by Recruiter</td>\n",
       "      <td>0 - 1 yrs</td>\n",
       "      <td>Computer science| Fabrication| Quality check| ...</td>\n",
       "      <td>R&amp;D</td>\n",
       "      <td>Gurgaon</td>\n",
       "      <td>Engineering Design , R&amp;D</td>\n",
       "      <td>Recruitment, Staffing</td>\n",
       "      <td>R&amp;D Executive</td>\n",
       "    </tr>\n",
       "    <tr>\n",
       "      <th>3</th>\n",
       "      <td>7b921f51b5c2fb862b4a5f7a54c37f75</td>\n",
       "      <td>2019-08-05 15:31:56 +0000</td>\n",
       "      <td>Technical Support</td>\n",
       "      <td>2,00,000 - 4,00,000 PA.</td>\n",
       "      <td>0 - 5 yrs</td>\n",
       "      <td>Technical Support</td>\n",
       "      <td>Admin/Maintenance/Security/Datawarehousing</td>\n",
       "      <td>Mumbai</td>\n",
       "      <td>IT Software - Application Programming , Mainte...</td>\n",
       "      <td>IT-Software, Software Services</td>\n",
       "      <td>Technical Support Engineer</td>\n",
       "    </tr>\n",
       "    <tr>\n",
       "      <th>4</th>\n",
       "      <td>2d8b7d44e138a54d5dc841163138de50</td>\n",
       "      <td>2019-07-05 02:48:29 +0000</td>\n",
       "      <td>Software Test Engineer -hyderabad</td>\n",
       "      <td>Not Disclosed by Recruiter</td>\n",
       "      <td>2 - 5 yrs</td>\n",
       "      <td>manual testing| test engineering| test cases| ...</td>\n",
       "      <td>Programming &amp; Design</td>\n",
       "      <td>Hyderabad</td>\n",
       "      <td>IT Software - QA &amp; Testing</td>\n",
       "      <td>IT-Software, Software Services</td>\n",
       "      <td>Testing Engineer</td>\n",
       "    </tr>\n",
       "  </tbody>\n",
       "</table>\n",
       "</div>"
      ],
      "text/plain": [
       "                            Uniq Id            Crawl Timestamp  \\\n",
       "0  9be62c49a0b7ebe982a4af1edaa7bc5f  2019-07-05 01:46:07 +0000   \n",
       "1  3c52d436e39f596b22519da2612f6a56  2019-07-06 08:04:50 +0000   \n",
       "2  ffad8a2396c60be2bf6d0e2ff47c58d4  2019-08-05 15:50:44 +0000   \n",
       "3  7b921f51b5c2fb862b4a5f7a54c37f75  2019-08-05 15:31:56 +0000   \n",
       "4  2d8b7d44e138a54d5dc841163138de50  2019-07-05 02:48:29 +0000   \n",
       "\n",
       "                                           Job Title  \\\n",
       "0                              Digital Media Planner   \n",
       "1                           Online Bidding Executive   \n",
       "2  Trainee Research/ Research Executive- Hi- Tech...   \n",
       "3                                  Technical Support   \n",
       "4                  Software Test Engineer -hyderabad   \n",
       "\n",
       "                   Job Salary Job Experience Required  \\\n",
       "0  Not Disclosed by Recruiter              5 - 10 yrs   \n",
       "1  Not Disclosed by Recruiter               2 - 5 yrs   \n",
       "2  Not Disclosed by Recruiter               0 - 1 yrs   \n",
       "3    2,00,000 - 4,00,000 PA.                0 - 5 yrs   \n",
       "4  Not Disclosed by Recruiter               2 - 5 yrs   \n",
       "\n",
       "                                          Key Skills  \\\n",
       "0                      Media Planning| Digital Media   \n",
       "1  pre sales| closing| software knowledge| client...   \n",
       "2  Computer science| Fabrication| Quality check| ...   \n",
       "3                                  Technical Support   \n",
       "4  manual testing| test engineering| test cases| ...   \n",
       "\n",
       "                                Role Category   Location  \\\n",
       "0                                 Advertising     Mumbai   \n",
       "1                                Retail Sales  Pune,Pune   \n",
       "2                                         R&D    Gurgaon   \n",
       "3  Admin/Maintenance/Security/Datawarehousing     Mumbai   \n",
       "4                        Programming & Design  Hyderabad   \n",
       "\n",
       "                                     Functional Area  \\\n",
       "0  Marketing , Advertising , MR , PR , Media Plan...   \n",
       "1              Sales , Retail , Business Development   \n",
       "2                           Engineering Design , R&D   \n",
       "3  IT Software - Application Programming , Mainte...   \n",
       "4                         IT Software - QA & Testing   \n",
       "\n",
       "                                Industry                              Role  \n",
       "0  Advertising, PR, MR, Event Management  Media Planning Executive/Manager  \n",
       "1         IT-Software, Software Services           Sales Executive/Officer  \n",
       "2                  Recruitment, Staffing                     R&D Executive  \n",
       "3         IT-Software, Software Services        Technical Support Engineer  \n",
       "4         IT-Software, Software Services                  Testing Engineer  "
      ]
     },
     "execution_count": 31,
     "metadata": {},
     "output_type": "execute_result"
    }
   ],
   "source": [
    "jobs.head()"
   ]
  },
  {
   "cell_type": "code",
   "execution_count": 32,
   "id": "01ca44ca",
   "metadata": {},
   "outputs": [],
   "source": [
    "role_wise_job=jobs.groupby(['Role Category']).size().reset_index(name='diff_roles').sort_values('diff_roles',ascending=False)"
   ]
  },
  {
   "cell_type": "code",
   "execution_count": 33,
   "id": "aabc129d",
   "metadata": {},
   "outputs": [
    {
     "data": {
      "image/png": "[encoded data removed]",
      "text/plain": [
       "<Figure size 864x864 with 1 Axes>"
      ]
     },
     "metadata": {
      "needs_background": "light"
     },
     "output_type": "display_data"
    }
   ],
   "source": [
    "plt.figure(figsize=(12,12))\n",
    "ax = sns.barplot(x=\"Role Category\", y=\"diff_roles\", data=role_wise_job)\n",
    "ax.set_xticklabels(ax.get_xticklabels(), rotation=90, ha=\"right\")\n",
    "\n",
    "ax.set_title('Role wise job openings')\n",
    "plt.tight_layout()\n",
    "plt.show()"
   ]
  },
  {
   "cell_type": "code",
   "execution_count": 34,
   "id": "ededcfce",
   "metadata": {},
   "outputs": [],
   "source": [
    "industry_wise_job=jobs.groupby(['Industry']).size().reset_index(name='ind_roles').sort_values('ind_roles',ascending=False)"
   ]
  },
  {
   "cell_type": "code",
   "execution_count": 35,
   "id": "ea0413e8",
   "metadata": {},
   "outputs": [
    {
     "data": {
      "image/png": "[encoded data removed]",
      "text/plain": [
       "<Figure size 864x864 with 1 Axes>"
      ]
     },
     "metadata": {
      "needs_background": "light"
     },
     "output_type": "display_data"
    }
   ],
   "source": [
    "plt.figure(figsize=(12,12))\n",
    "ax = sns.barplot(x=\"Industry\", y=\"ind_roles\", data=industry_wise_job)\n",
    "ax.set_xticklabels(ax.get_xticklabels(), rotation=90, ha=\"right\")\n",
    "\n",
    "ax.set_title('Industry wise job openings')\n",
    "plt.tight_layout()\n",
    "plt.show()"
   ]
  },
  {
   "cell_type": "code",
   "execution_count": 36,
   "id": "77f89f53",
   "metadata": {},
   "outputs": [
    {
     "name": "stdout",
     "output_type": "stream",
     "text": [
      "Feature 'Uniq Id' has '27087'uniques categories\n",
      "Feature 'Crawl Timestamp' has '26145'uniques categories\n",
      "Feature 'Job Title' has '21679'uniques categories\n",
      "Feature 'Job Salary' has '980'uniques categories\n",
      "Feature 'Job Experience Required' has '243'uniques categories\n",
      "Feature 'Key Skills' has '24732'uniques categories\n",
      "Feature 'Role Category' has '65'uniques categories\n",
      "Feature 'Location' has '2398'uniques categories\n",
      "Feature 'Functional Area' has '43'uniques categories\n",
      "Feature 'Industry' has '63'uniques categories\n",
      "Feature 'Role' has '477'uniques categories\n"
     ]
    }
   ],
   "source": [
    "for col_name in jobs.columns:\n",
    "    if jobs[col_name].dtypes=='object':\n",
    "        unique_cat=len(jobs[col_name].unique())\n",
    "        print(\"Feature '{col_name}' has '{unique_cat}'uniques categories\".format(col_name=col_name,unique_cat=unique_cat)) "
   ]
  },
  {
   "cell_type": "code",
   "execution_count": 37,
   "id": "6f6b78eb",
   "metadata": {},
   "outputs": [
    {
     "data": {
      "text/plain": [
       "3"
      ]
     },
     "execution_count": 37,
     "metadata": {},
     "output_type": "execute_result"
    }
   ],
   "source": [
    "jobs.isnull().any().sum()"
   ]
  },
  {
   "cell_type": "code",
   "execution_count": 38,
   "id": "d60fe5aa",
   "metadata": {},
   "outputs": [
    {
     "data": {
      "text/plain": [
       "Key Skills                 670\n",
       "Job Title                    2\n",
       "Job Salary                   2\n",
       "Uniq Id                      0\n",
       "Crawl Timestamp              0\n",
       "Job Experience Required      0\n",
       "Role Category                0\n",
       "Location                     0\n",
       "Functional Area              0\n",
       "Industry                     0\n",
       "Role                         0\n",
       "dtype: int64"
      ]
     },
     "execution_count": 38,
     "metadata": {},
     "output_type": "execute_result"
    }
   ],
   "source": [
    "jobs.isnull().sum().sort_values(ascending=False)"
   ]
  },
  {
   "cell_type": "code",
   "execution_count": 39,
   "id": "eaa3ff44",
   "metadata": {},
   "outputs": [
    {
     "data": {
      "text/plain": [
       "0"
      ]
     },
     "execution_count": 39,
     "metadata": {},
     "output_type": "execute_result"
    }
   ],
   "source": [
    "jobs['Role Category'].isnull().any().sum()"
   ]
  },
  {
   "cell_type": "code",
   "execution_count": 40,
   "id": "c1b110a7",
   "metadata": {},
   "outputs": [],
   "source": [
    "jobs_for_predict=jobs[['Role Category',\n",
    "       'Functional Area', 'Industry']]"
   ]
  },
  {
   "cell_type": "code",
   "execution_count": 41,
   "id": "a688ebb6",
   "metadata": {},
   "outputs": [
    {
     "data": {
      "text/html": [
       "<div>\n",
       "<style scoped>\n",
       "    .dataframe tbody tr th:only-of-type {\n",
       "        vertical-align: middle;\n",
       "    }\n",
       "\n",
       "    .dataframe tbody tr th {\n",
       "        vertical-align: top;\n",
       "    }\n",
       "\n",
       "    .dataframe thead th {\n",
       "        text-align: right;\n",
       "    }\n",
       "</style>\n",
       "<table border=\"1\" class=\"dataframe\">\n",
       "  <thead>\n",
       "    <tr style=\"text-align: right;\">\n",
       "      <th></th>\n",
       "      <th>Role Category</th>\n",
       "      <th>Functional Area</th>\n",
       "      <th>Industry</th>\n",
       "    </tr>\n",
       "  </thead>\n",
       "  <tbody>\n",
       "    <tr>\n",
       "      <th>0</th>\n",
       "      <td>Advertising</td>\n",
       "      <td>Marketing , Advertising , MR , PR , Media Plan...</td>\n",
       "      <td>Advertising, PR, MR, Event Management</td>\n",
       "    </tr>\n",
       "    <tr>\n",
       "      <th>1</th>\n",
       "      <td>Retail Sales</td>\n",
       "      <td>Sales , Retail , Business Development</td>\n",
       "      <td>IT-Software, Software Services</td>\n",
       "    </tr>\n",
       "    <tr>\n",
       "      <th>2</th>\n",
       "      <td>R&amp;D</td>\n",
       "      <td>Engineering Design , R&amp;D</td>\n",
       "      <td>Recruitment, Staffing</td>\n",
       "    </tr>\n",
       "    <tr>\n",
       "      <th>3</th>\n",
       "      <td>Admin/Maintenance/Security/Datawarehousing</td>\n",
       "      <td>IT Software - Application Programming , Mainte...</td>\n",
       "      <td>IT-Software, Software Services</td>\n",
       "    </tr>\n",
       "    <tr>\n",
       "      <th>4</th>\n",
       "      <td>Programming &amp; Design</td>\n",
       "      <td>IT Software - QA &amp; Testing</td>\n",
       "      <td>IT-Software, Software Services</td>\n",
       "    </tr>\n",
       "  </tbody>\n",
       "</table>\n",
       "</div>"
      ],
      "text/plain": [
       "                                Role Category  \\\n",
       "0                                 Advertising   \n",
       "1                                Retail Sales   \n",
       "2                                         R&D   \n",
       "3  Admin/Maintenance/Security/Datawarehousing   \n",
       "4                        Programming & Design   \n",
       "\n",
       "                                     Functional Area  \\\n",
       "0  Marketing , Advertising , MR , PR , Media Plan...   \n",
       "1              Sales , Retail , Business Development   \n",
       "2                           Engineering Design , R&D   \n",
       "3  IT Software - Application Programming , Mainte...   \n",
       "4                         IT Software - QA & Testing   \n",
       "\n",
       "                                Industry  \n",
       "0  Advertising, PR, MR, Event Management  \n",
       "1         IT-Software, Software Services  \n",
       "2                  Recruitment, Staffing  \n",
       "3         IT-Software, Software Services  \n",
       "4         IT-Software, Software Services  "
      ]
     },
     "execution_count": 41,
     "metadata": {},
     "output_type": "execute_result"
    }
   ],
   "source": [
    "jobs_for_predict.head()"
   ]
  },
  {
   "cell_type": "code",
   "execution_count": 42,
   "id": "e68d9b5d",
   "metadata": {},
   "outputs": [
    {
     "data": {
      "text/plain": [
       "array([['Advertising',\n",
       "        'Marketing , Advertising , MR , PR , Media Planning',\n",
       "        'Advertising, PR, MR, Event Management'],\n",
       "       ['Retail Sales', 'Sales , Retail , Business Development',\n",
       "        'IT-Software, Software Services'],\n",
       "       ['R&D', 'Engineering Design , R&D', 'Recruitment, Staffing'],\n",
       "       ...,\n",
       "       ['University Level',\n",
       "        'Teaching , Education , Training , Counselling',\n",
       "        'Education, Teaching, Training'],\n",
       "       ['Programming & Design',\n",
       "        'IT Software - Application Programming , Maintenance',\n",
       "        'IT-Software, Software Services'],\n",
       "       ['Online/Digital Marketing',\n",
       "        'Marketing , Advertising , MR , PR , Media Planning',\n",
       "        'IT-Software, Software Services']], dtype=object)"
      ]
     },
     "execution_count": 42,
     "metadata": {},
     "output_type": "execute_result"
    }
   ],
   "source": [
    "mark_array=jobs_for_predict.values\n",
    "mark_array"
   ]
  },
  {
   "cell_type": "code",
   "execution_count": 43,
   "id": "0da202fe",
   "metadata": {},
   "outputs": [
    {
     "name": "stdout",
     "output_type": "stream",
     "text": [
      "Init: initializing centroids\n",
      "Init: initializing clusters\n",
      "Starting iterations...\n",
      "Run 1, iteration: 1/100, moves: 0, cost: 55539.0\n",
      "Init: initializing centroids\n",
      "Init: initializing clusters\n",
      "Starting iterations...\n",
      "Run 2, iteration: 1/100, moves: 0, cost: 55539.0\n",
      "Init: initializing centroids\n",
      "Init: initializing clusters\n",
      "Starting iterations...\n",
      "Run 3, iteration: 1/100, moves: 0, cost: 55539.0\n",
      "Init: initializing centroids\n",
      "Init: initializing clusters\n",
      "Starting iterations...\n",
      "Run 4, iteration: 1/100, moves: 0, cost: 55539.0\n",
      "Init: initializing centroids\n",
      "Init: initializing clusters\n",
      "Starting iterations...\n",
      "Run 5, iteration: 1/100, moves: 0, cost: 55539.0\n",
      "Best run was number 1\n",
      "Init: initializing centroids\n",
      "Init: initializing clusters\n",
      "Starting iterations...\n",
      "Run 1, iteration: 1/100, moves: 1372, cost: 49218.0\n",
      "Init: initializing centroids\n",
      "Init: initializing clusters\n",
      "Starting iterations...\n",
      "Run 2, iteration: 1/100, moves: 235, cost: 51737.0\n",
      "Init: initializing centroids\n",
      "Init: initializing clusters\n",
      "Starting iterations...\n",
      "Run 3, iteration: 1/100, moves: 623, cost: 49407.0\n",
      "Init: initializing centroids\n",
      "Init: initializing clusters\n",
      "Starting iterations...\n",
      "Run 4, iteration: 1/100, moves: 768, cost: 53056.0\n",
      "Init: initializing centroids\n",
      "Init: initializing clusters\n",
      "Starting iterations...\n",
      "Run 5, iteration: 1/100, moves: 0, cost: 49176.0\n",
      "Best run was number 5\n",
      "Init: initializing centroids\n",
      "Init: initializing clusters\n",
      "Starting iterations...\n",
      "Run 1, iteration: 1/100, moves: 4074, cost: 42054.0\n",
      "Run 1, iteration: 2/100, moves: 172, cost: 42054.0\n",
      "Init: initializing centroids\n",
      "Init: initializing clusters\n",
      "Starting iterations...\n",
      "Run 2, iteration: 1/100, moves: 2634, cost: 43200.0\n",
      "Init: initializing centroids\n",
      "Init: initializing clusters\n",
      "Starting iterations...\n",
      "Run 3, iteration: 1/100, moves: 4738, cost: 46523.0\n",
      "Run 3, iteration: 2/100, moves: 503, cost: 46523.0\n",
      "Init: initializing centroids\n",
      "Init: initializing clusters\n",
      "Starting iterations...\n",
      "Run 4, iteration: 1/100, moves: 5174, cost: 45493.0\n",
      "Run 4, iteration: 2/100, moves: 0, cost: 45493.0\n",
      "Init: initializing centroids\n",
      "Init: initializing clusters\n",
      "Starting iterations...\n",
      "Run 5, iteration: 1/100, moves: 786, cost: 47072.0\n",
      "Best run was number 1\n",
      "Init: initializing centroids\n",
      "Init: initializing clusters\n",
      "Starting iterations...\n",
      "Run 1, iteration: 1/100, moves: 2734, cost: 42103.0\n",
      "Init: initializing centroids\n",
      "Init: initializing clusters\n",
      "Starting iterations...\n",
      "Run 2, iteration: 1/100, moves: 2528, cost: 41595.0\n",
      "Init: initializing centroids\n",
      "Init: initializing clusters\n",
      "Starting iterations...\n",
      "Run 3, iteration: 1/100, moves: 1367, cost: 40553.0\n",
      "Init: initializing centroids\n",
      "Init: initializing clusters\n",
      "Starting iterations...\n",
      "Run 4, iteration: 1/100, moves: 1528, cost: 46965.0\n",
      "Init: initializing centroids\n",
      "Init: initializing clusters\n",
      "Starting iterations...\n",
      "Run 5, iteration: 1/100, moves: 644, cost: 40435.0\n",
      "Best run was number 5\n"
     ]
    },
    {
     "data": {
      "image/png": "[encoded data removed]",
      "text/plain": [
       "<Figure size 432x288 with 1 Axes>"
      ]
     },
     "metadata": {
      "needs_background": "light"
     },
     "output_type": "display_data"
    }
   ],
   "source": [
    "# Elbow curve to find optimal K\n",
    "cost = []\n",
    "K = range(1,5)\n",
    "for num_clusters in list(K):\n",
    "    kmode = KModes(n_clusters=num_clusters, init = \"random\", n_init = 5, verbose=1)\n",
    "    kmode.fit_predict(mark_array)\n",
    "    cost.append(kmode.cost_)\n",
    "    \n",
    "plt.plot(K, cost, 'bx-')\n",
    "plt.xlabel('No. of clusters')\n",
    "plt.ylabel('Cost')\n",
    "plt.title('Elbow Method For Optimal k')\n",
    "plt.show()"
   ]
  },
  {
   "cell_type": "code",
   "execution_count": 43,
   "id": "4c05caa5",
   "metadata": {},
   "outputs": [
    {
     "name": "stdout",
     "output_type": "stream",
     "text": [
      "Init: initializing centroids\n",
      "Init: initializing clusters\n",
      "Starting iterations...\n",
      "Run 1, iteration: 1/100, moves: 3855, cost: 23824.0\n",
      "Run 1, iteration: 2/100, moves: 328, cost: 23824.0\n",
      "Init: initializing centroids\n",
      "Init: initializing clusters\n",
      "Starting iterations...\n",
      "Run 2, iteration: 1/100, moves: 5501, cost: 26743.0\n",
      "Run 2, iteration: 2/100, moves: 208, cost: 26743.0\n",
      "Init: initializing centroids\n",
      "Init: initializing clusters\n",
      "Starting iterations...\n",
      "Run 3, iteration: 1/100, moves: 2763, cost: 24235.0\n",
      "Run 3, iteration: 2/100, moves: 338, cost: 24235.0\n",
      "Init: initializing centroids\n",
      "Init: initializing clusters\n",
      "Starting iterations...\n",
      "Run 4, iteration: 1/100, moves: 5558, cost: 25199.0\n",
      "Run 4, iteration: 2/100, moves: 474, cost: 25199.0\n",
      "Init: initializing centroids\n",
      "Init: initializing clusters\n",
      "Starting iterations...\n",
      "Run 5, iteration: 1/100, moves: 4353, cost: 24822.0\n",
      "Run 5, iteration: 2/100, moves: 64, cost: 24822.0\n",
      "Best run was number 1\n"
     ]
    },
    {
     "data": {
      "text/plain": [
       "array([19,  3,  1, ..., 21, 11, 19], dtype=uint16)"
      ]
     },
     "execution_count": 43,
     "metadata": {},
     "output_type": "execute_result"
    }
   ],
   "source": [
    "# Building the model with 30 clusters\n",
    "kmode = KModes(n_clusters=30, init = \"random\", n_init = 5, verbose=1)\n",
    "clusters = kmode.fit_predict(mark_array)\n",
    "clusters"
   ]
  },
  {
   "cell_type": "code",
   "execution_count": 44,
   "id": "00447908",
   "metadata": {},
   "outputs": [
    {
     "data": {
      "text/html": [
       "<div>\n",
       "<style scoped>\n",
       "    .dataframe tbody tr th:only-of-type {\n",
       "        vertical-align: middle;\n",
       "    }\n",
       "\n",
       "    .dataframe tbody tr th {\n",
       "        vertical-align: top;\n",
       "    }\n",
       "\n",
       "    .dataframe thead th {\n",
       "        text-align: right;\n",
       "    }\n",
       "</style>\n",
       "<table border=\"1\" class=\"dataframe\">\n",
       "  <thead>\n",
       "    <tr style=\"text-align: right;\">\n",
       "      <th></th>\n",
       "      <th>Cluster</th>\n",
       "      <th>Uniq Id</th>\n",
       "      <th>Crawl Timestamp</th>\n",
       "      <th>Job Title</th>\n",
       "      <th>Job Salary</th>\n",
       "      <th>Job Experience Required</th>\n",
       "      <th>Key Skills</th>\n",
       "      <th>Role Category</th>\n",
       "      <th>Location</th>\n",
       "      <th>Functional Area</th>\n",
       "      <th>Industry</th>\n",
       "      <th>Role</th>\n",
       "    </tr>\n",
       "  </thead>\n",
       "  <tbody>\n",
       "    <tr>\n",
       "      <th>0</th>\n",
       "      <td>19</td>\n",
       "      <td>9be62c49a0b7ebe982a4af1edaa7bc5f</td>\n",
       "      <td>2019-07-05 01:46:07 +0000</td>\n",
       "      <td>Digital Media Planner</td>\n",
       "      <td>Not Disclosed by Recruiter</td>\n",
       "      <td>5 - 10 yrs</td>\n",
       "      <td>Media Planning| Digital Media</td>\n",
       "      <td>Advertising</td>\n",
       "      <td>Mumbai</td>\n",
       "      <td>Marketing , Advertising , MR , PR , Media Plan...</td>\n",
       "      <td>Advertising, PR, MR, Event Management</td>\n",
       "      <td>Media Planning Executive/Manager</td>\n",
       "    </tr>\n",
       "    <tr>\n",
       "      <th>1</th>\n",
       "      <td>3</td>\n",
       "      <td>3c52d436e39f596b22519da2612f6a56</td>\n",
       "      <td>2019-07-06 08:04:50 +0000</td>\n",
       "      <td>Online Bidding Executive</td>\n",
       "      <td>Not Disclosed by Recruiter</td>\n",
       "      <td>2 - 5 yrs</td>\n",
       "      <td>pre sales| closing| software knowledge| client...</td>\n",
       "      <td>Retail Sales</td>\n",
       "      <td>Pune,Pune</td>\n",
       "      <td>Sales , Retail , Business Development</td>\n",
       "      <td>IT-Software, Software Services</td>\n",
       "      <td>Sales Executive/Officer</td>\n",
       "    </tr>\n",
       "    <tr>\n",
       "      <th>2</th>\n",
       "      <td>1</td>\n",
       "      <td>ffad8a2396c60be2bf6d0e2ff47c58d4</td>\n",
       "      <td>2019-08-05 15:50:44 +0000</td>\n",
       "      <td>Trainee Research/ Research Executive- Hi- Tech...</td>\n",
       "      <td>Not Disclosed by Recruiter</td>\n",
       "      <td>0 - 1 yrs</td>\n",
       "      <td>Computer science| Fabrication| Quality check| ...</td>\n",
       "      <td>R&amp;D</td>\n",
       "      <td>Gurgaon</td>\n",
       "      <td>Engineering Design , R&amp;D</td>\n",
       "      <td>Recruitment, Staffing</td>\n",
       "      <td>R&amp;D Executive</td>\n",
       "    </tr>\n",
       "    <tr>\n",
       "      <th>3</th>\n",
       "      <td>15</td>\n",
       "      <td>7b921f51b5c2fb862b4a5f7a54c37f75</td>\n",
       "      <td>2019-08-05 15:31:56 +0000</td>\n",
       "      <td>Technical Support</td>\n",
       "      <td>2,00,000 - 4,00,000 PA.</td>\n",
       "      <td>0 - 5 yrs</td>\n",
       "      <td>Technical Support</td>\n",
       "      <td>Admin/Maintenance/Security/Datawarehousing</td>\n",
       "      <td>Mumbai</td>\n",
       "      <td>IT Software - Application Programming , Mainte...</td>\n",
       "      <td>IT-Software, Software Services</td>\n",
       "      <td>Technical Support Engineer</td>\n",
       "    </tr>\n",
       "    <tr>\n",
       "      <th>4</th>\n",
       "      <td>25</td>\n",
       "      <td>2d8b7d44e138a54d5dc841163138de50</td>\n",
       "      <td>2019-07-05 02:48:29 +0000</td>\n",
       "      <td>Software Test Engineer -hyderabad</td>\n",
       "      <td>Not Disclosed by Recruiter</td>\n",
       "      <td>2 - 5 yrs</td>\n",
       "      <td>manual testing| test engineering| test cases| ...</td>\n",
       "      <td>Programming &amp; Design</td>\n",
       "      <td>Hyderabad</td>\n",
       "      <td>IT Software - QA &amp; Testing</td>\n",
       "      <td>IT-Software, Software Services</td>\n",
       "      <td>Testing Engineer</td>\n",
       "    </tr>\n",
       "    <tr>\n",
       "      <th>...</th>\n",
       "      <td>...</td>\n",
       "      <td>...</td>\n",
       "      <td>...</td>\n",
       "      <td>...</td>\n",
       "      <td>...</td>\n",
       "      <td>...</td>\n",
       "      <td>...</td>\n",
       "      <td>...</td>\n",
       "      <td>...</td>\n",
       "      <td>...</td>\n",
       "      <td>...</td>\n",
       "      <td>...</td>\n",
       "    </tr>\n",
       "    <tr>\n",
       "      <th>29781</th>\n",
       "      <td>2</td>\n",
       "      <td>3510f2146b514f112eaa9706a16b3900</td>\n",
       "      <td>2019-07-06 21:12:51 +0000</td>\n",
       "      <td>MTS-Software-Engineer</td>\n",
       "      <td>Not Disclosed by Recruiter</td>\n",
       "      <td>9 - 12 yrs</td>\n",
       "      <td>Graphics| C++| USB| Project management| SOC| F...</td>\n",
       "      <td>Programming &amp; Design</td>\n",
       "      <td>Bengaluru</td>\n",
       "      <td>IT Software - Embedded , EDA , VLSI , ASIC , C...</td>\n",
       "      <td>Semiconductors, Electronics</td>\n",
       "      <td>Software Developer</td>\n",
       "    </tr>\n",
       "    <tr>\n",
       "      <th>29782</th>\n",
       "      <td>6</td>\n",
       "      <td>4af8c56f5b4c535b1974065003f2d548</td>\n",
       "      <td>2019-08-05 23:55:08 +0000</td>\n",
       "      <td>Client Relationship Manager</td>\n",
       "      <td>Not Disclosed by Recruiter</td>\n",
       "      <td>1 - 5 yrs</td>\n",
       "      <td>Service delivery| LMS| CRE| Integration servic...</td>\n",
       "      <td>Operations</td>\n",
       "      <td>Chennai</td>\n",
       "      <td>ITES , BPO , KPO , LPO , Customer Service , Op...</td>\n",
       "      <td>Education, Teaching, Training</td>\n",
       "      <td>Operations Manager</td>\n",
       "    </tr>\n",
       "    <tr>\n",
       "      <th>29783</th>\n",
       "      <td>21</td>\n",
       "      <td>43d5b806b26ed99d3ebfc8f366b4cdd1</td>\n",
       "      <td>2019-08-05 09:41:29 +0000</td>\n",
       "      <td>Assoc. Prof.- CS</td>\n",
       "      <td>Not Disclosed by Recruiter</td>\n",
       "      <td>4 - 6 yrs</td>\n",
       "      <td>Counselor| Mentor| Trainer| Advisor| Teaching</td>\n",
       "      <td>University Level</td>\n",
       "      <td>Howrah</td>\n",
       "      <td>Teaching , Education , Training , Counselling</td>\n",
       "      <td>Education, Teaching, Training</td>\n",
       "      <td>Lecturer/Professor</td>\n",
       "    </tr>\n",
       "    <tr>\n",
       "      <th>29784</th>\n",
       "      <td>11</td>\n",
       "      <td>8bc87d14cf56564f16b6d4bae80180be</td>\n",
       "      <td>2019-08-06 01:44:55 +0000</td>\n",
       "      <td>Application/Cyber Security Specialist-Pune</td>\n",
       "      <td>Not Disclosed by Recruiter</td>\n",
       "      <td>5 - 10 yrs</td>\n",
       "      <td>Security Analysis| Software Development Life C...</td>\n",
       "      <td>Programming &amp; Design</td>\n",
       "      <td>Pune</td>\n",
       "      <td>IT Software - Application Programming , Mainte...</td>\n",
       "      <td>IT-Software, Software Services</td>\n",
       "      <td>Software Developer</td>\n",
       "    </tr>\n",
       "    <tr>\n",
       "      <th>29785</th>\n",
       "      <td>19</td>\n",
       "      <td>9c7045d111814a6f39fe461eab2b0bf8</td>\n",
       "      <td>2019-07-06 22:24:55 +0000</td>\n",
       "      <td>Press Release Writer - SEO</td>\n",
       "      <td>Not Disclosed by Recruiter</td>\n",
       "      <td>2 - 7 yrs</td>\n",
       "      <td>Press release| Public relations| Publishing| W...</td>\n",
       "      <td>Online/Digital Marketing</td>\n",
       "      <td>Bengaluru</td>\n",
       "      <td>Marketing , Advertising , MR , PR , Media Plan...</td>\n",
       "      <td>IT-Software, Software Services</td>\n",
       "      <td>Search Engine Optimisation /SEO Specialist</td>\n",
       "    </tr>\n",
       "  </tbody>\n",
       "</table>\n",
       "<p>27087 rows × 12 columns</p>\n",
       "</div>"
      ],
      "text/plain": [
       "       Cluster                           Uniq Id            Crawl Timestamp  \\\n",
       "0           19  9be62c49a0b7ebe982a4af1edaa7bc5f  2019-07-05 01:46:07 +0000   \n",
       "1            3  3c52d436e39f596b22519da2612f6a56  2019-07-06 08:04:50 +0000   \n",
       "2            1  ffad8a2396c60be2bf6d0e2ff47c58d4  2019-08-05 15:50:44 +0000   \n",
       "3           15  7b921f51b5c2fb862b4a5f7a54c37f75  2019-08-05 15:31:56 +0000   \n",
       "4           25  2d8b7d44e138a54d5dc841163138de50  2019-07-05 02:48:29 +0000   \n",
       "...        ...                               ...                        ...   \n",
       "29781        2  3510f2146b514f112eaa9706a16b3900  2019-07-06 21:12:51 +0000   \n",
       "29782        6  4af8c56f5b4c535b1974065003f2d548  2019-08-05 23:55:08 +0000   \n",
       "29783       21  43d5b806b26ed99d3ebfc8f366b4cdd1  2019-08-05 09:41:29 +0000   \n",
       "29784       11  8bc87d14cf56564f16b6d4bae80180be  2019-08-06 01:44:55 +0000   \n",
       "29785       19  9c7045d111814a6f39fe461eab2b0bf8  2019-07-06 22:24:55 +0000   \n",
       "\n",
       "                                               Job Title  \\\n",
       "0                                  Digital Media Planner   \n",
       "1                               Online Bidding Executive   \n",
       "2      Trainee Research/ Research Executive- Hi- Tech...   \n",
       "3                                      Technical Support   \n",
       "4                      Software Test Engineer -hyderabad   \n",
       "...                                                  ...   \n",
       "29781                              MTS-Software-Engineer   \n",
       "29782                        Client Relationship Manager   \n",
       "29783                                   Assoc. Prof.- CS   \n",
       "29784         Application/Cyber Security Specialist-Pune   \n",
       "29785                         Press Release Writer - SEO   \n",
       "\n",
       "                       Job Salary Job Experience Required  \\\n",
       "0      Not Disclosed by Recruiter              5 - 10 yrs   \n",
       "1      Not Disclosed by Recruiter               2 - 5 yrs   \n",
       "2      Not Disclosed by Recruiter               0 - 1 yrs   \n",
       "3        2,00,000 - 4,00,000 PA.                0 - 5 yrs   \n",
       "4      Not Disclosed by Recruiter               2 - 5 yrs   \n",
       "...                           ...                     ...   \n",
       "29781  Not Disclosed by Recruiter              9 - 12 yrs   \n",
       "29782  Not Disclosed by Recruiter               1 - 5 yrs   \n",
       "29783  Not Disclosed by Recruiter               4 - 6 yrs   \n",
       "29784  Not Disclosed by Recruiter              5 - 10 yrs   \n",
       "29785  Not Disclosed by Recruiter               2 - 7 yrs   \n",
       "\n",
       "                                              Key Skills  \\\n",
       "0                          Media Planning| Digital Media   \n",
       "1      pre sales| closing| software knowledge| client...   \n",
       "2      Computer science| Fabrication| Quality check| ...   \n",
       "3                                      Technical Support   \n",
       "4      manual testing| test engineering| test cases| ...   \n",
       "...                                                  ...   \n",
       "29781  Graphics| C++| USB| Project management| SOC| F...   \n",
       "29782  Service delivery| LMS| CRE| Integration servic...   \n",
       "29783      Counselor| Mentor| Trainer| Advisor| Teaching   \n",
       "29784  Security Analysis| Software Development Life C...   \n",
       "29785  Press release| Public relations| Publishing| W...   \n",
       "\n",
       "                                    Role Category   Location  \\\n",
       "0                                     Advertising     Mumbai   \n",
       "1                                    Retail Sales  Pune,Pune   \n",
       "2                                             R&D    Gurgaon   \n",
       "3      Admin/Maintenance/Security/Datawarehousing     Mumbai   \n",
       "4                            Programming & Design  Hyderabad   \n",
       "...                                           ...        ...   \n",
       "29781                        Programming & Design  Bengaluru   \n",
       "29782                                  Operations    Chennai   \n",
       "29783                            University Level     Howrah   \n",
       "29784                        Programming & Design       Pune   \n",
       "29785                    Online/Digital Marketing  Bengaluru   \n",
       "\n",
       "                                         Functional Area  \\\n",
       "0      Marketing , Advertising , MR , PR , Media Plan...   \n",
       "1                  Sales , Retail , Business Development   \n",
       "2                               Engineering Design , R&D   \n",
       "3      IT Software - Application Programming , Mainte...   \n",
       "4                             IT Software - QA & Testing   \n",
       "...                                                  ...   \n",
       "29781  IT Software - Embedded , EDA , VLSI , ASIC , C...   \n",
       "29782  ITES , BPO , KPO , LPO , Customer Service , Op...   \n",
       "29783      Teaching , Education , Training , Counselling   \n",
       "29784  IT Software - Application Programming , Mainte...   \n",
       "29785  Marketing , Advertising , MR , PR , Media Plan...   \n",
       "\n",
       "                                    Industry  \\\n",
       "0      Advertising, PR, MR, Event Management   \n",
       "1             IT-Software, Software Services   \n",
       "2                      Recruitment, Staffing   \n",
       "3             IT-Software, Software Services   \n",
       "4             IT-Software, Software Services   \n",
       "...                                      ...   \n",
       "29781            Semiconductors, Electronics   \n",
       "29782          Education, Teaching, Training   \n",
       "29783          Education, Teaching, Training   \n",
       "29784         IT-Software, Software Services   \n",
       "29785         IT-Software, Software Services   \n",
       "\n",
       "                                             Role  \n",
       "0                Media Planning Executive/Manager  \n",
       "1                         Sales Executive/Officer  \n",
       "2                                   R&D Executive  \n",
       "3                      Technical Support Engineer  \n",
       "4                                Testing Engineer  \n",
       "...                                           ...  \n",
       "29781                          Software Developer  \n",
       "29782                          Operations Manager  \n",
       "29783                          Lecturer/Professor  \n",
       "29784                          Software Developer  \n",
       "29785  Search Engine Optimisation /SEO Specialist  \n",
       "\n",
       "[27087 rows x 12 columns]"
      ]
     },
     "execution_count": 44,
     "metadata": {},
     "output_type": "execute_result"
    }
   ],
   "source": [
    "jobs.insert(0, \"Cluster\", clusters, True)\n",
    "jobs"
   ]
  },
  {
   "cell_type": "code",
   "execution_count": 46,
   "id": "13e6c97a",
   "metadata": {},
   "outputs": [
    {
     "name": "stdout",
     "output_type": "stream",
     "text": [
      "Feature 'Uniq Id' has '27087'uniques categories\n",
      "Feature 'Crawl Timestamp' has '26145'uniques categories\n",
      "Feature 'Job Title' has '21679'uniques categories\n",
      "Feature 'Job Salary' has '980'uniques categories\n",
      "Feature 'Job Experience Required' has '243'uniques categories\n",
      "Feature 'Key Skills' has '24732'uniques categories\n",
      "Feature 'Role Category' has '65'uniques categories\n",
      "Feature 'Location' has '2398'uniques categories\n",
      "Feature 'Functional Area' has '43'uniques categories\n",
      "Feature 'Industry' has '63'uniques categories\n",
      "Feature 'Role' has '477'uniques categories\n"
     ]
    }
   ],
   "source": [
    "for col_name in jobs.columns:\n",
    "    if jobs[col_name].dtypes=='object':\n",
    "        unique_cat=len(jobs[col_name].unique())\n",
    "        print(\"Feature '{col_name}' has '{unique_cat}'uniques categories\".format(col_name=col_name,unique_cat=unique_cat)) "
   ]
  },
  {
   "cell_type": "code",
   "execution_count": 45,
   "id": "11da7460",
   "metadata": {},
   "outputs": [
    {
     "name": "stdout",
     "output_type": "stream",
     "text": [
      "Data type of each column of Dataframe :\n",
      "Cluster                    uint16\n",
      "Uniq Id                    object\n",
      "Crawl Timestamp            object\n",
      "Job Title                  object\n",
      "Job Salary                 object\n",
      "Job Experience Required    object\n",
      "Key Skills                 object\n",
      "Role Category              object\n",
      "Location                   object\n",
      "Functional Area            object\n",
      "Industry                   object\n",
      "Role                       object\n",
      "dtype: object\n"
     ]
    }
   ],
   "source": [
    "dataTypeSeries = jobs.dtypes\n",
    "print('Data type of each column of Dataframe :')\n",
    "print(dataTypeSeries)"
   ]
  },
  {
   "cell_type": "code",
   "execution_count": 46,
   "id": "8f08dfde",
   "metadata": {},
   "outputs": [
    {
     "data": {
      "text/html": [
       "<div>\n",
       "<style scoped>\n",
       "    .dataframe tbody tr th:only-of-type {\n",
       "        vertical-align: middle;\n",
       "    }\n",
       "\n",
       "    .dataframe tbody tr th {\n",
       "        vertical-align: top;\n",
       "    }\n",
       "\n",
       "    .dataframe thead th {\n",
       "        text-align: right;\n",
       "    }\n",
       "</style>\n",
       "<table border=\"1\" class=\"dataframe\">\n",
       "  <thead>\n",
       "    <tr style=\"text-align: right;\">\n",
       "      <th></th>\n",
       "      <th>Cluster</th>\n",
       "      <th>Uniq Id</th>\n",
       "      <th>Crawl Timestamp</th>\n",
       "      <th>Job Title</th>\n",
       "      <th>Job Salary</th>\n",
       "      <th>Job Experience Required</th>\n",
       "      <th>Key Skills</th>\n",
       "      <th>Role Category</th>\n",
       "      <th>Location</th>\n",
       "      <th>Functional Area</th>\n",
       "      <th>Industry</th>\n",
       "      <th>Role</th>\n",
       "    </tr>\n",
       "  </thead>\n",
       "  <tbody>\n",
       "    <tr>\n",
       "      <th>22</th>\n",
       "      <td>27</td>\n",
       "      <td>498a81dbb1966dc3b032dcd54dea2e61</td>\n",
       "      <td>2019-07-05 02:39:32 +0000</td>\n",
       "      <td>QA Executive</td>\n",
       "      <td>2,00,000 - 3,00,000 PA.</td>\n",
       "      <td>2 - 5 yrs</td>\n",
       "      <td>QA Executive</td>\n",
       "      <td>QA/Testing/Documentation</td>\n",
       "      <td>Hyderabad</td>\n",
       "      <td>IT Software - QA &amp; Testing</td>\n",
       "      <td>Pharma, Biotech, Clinical Research</td>\n",
       "      <td>Quality Assurance/Quality Control Executive</td>\n",
       "    </tr>\n",
       "    <tr>\n",
       "      <th>32</th>\n",
       "      <td>27</td>\n",
       "      <td>36b432841127f2445623ccff69694736</td>\n",
       "      <td>2019-08-04 13:21:23 +0000</td>\n",
       "      <td>Senior Executive- Contract Logistics- Bom WP-A</td>\n",
       "      <td>Not Disclosed by Recruiter</td>\n",
       "      <td>2 - 5 yrs</td>\n",
       "      <td>Administration| Administrative Support| Contra...</td>\n",
       "      <td>Logistics</td>\n",
       "      <td>Mumbai</td>\n",
       "      <td>Purchase / Logistics / Supply Chain</td>\n",
       "      <td>Courier, Transportation, Freight , Warehousing</td>\n",
       "      <td>Logistics Executive</td>\n",
       "    </tr>\n",
       "    <tr>\n",
       "      <th>2188</th>\n",
       "      <td>27</td>\n",
       "      <td>72feec3e1473c3672c4cca76a54d601d</td>\n",
       "      <td>2019-08-04 22:03:17 +0000</td>\n",
       "      <td>Senior Manager - Last Mile ( Logistics Operati...</td>\n",
       "      <td>14,00,000 - 22,50,000 PA.</td>\n",
       "      <td>5 - 9 yrs</td>\n",
       "      <td>supply chain| logistics| Supply Chain Manageme...</td>\n",
       "      <td>Logistics</td>\n",
       "      <td>Mumbai</td>\n",
       "      <td>Purchase / Logistics / Supply Chain</td>\n",
       "      <td>Courier, Transportation, Freight , Warehousing</td>\n",
       "      <td>Logistics Manager</td>\n",
       "    </tr>\n",
       "    <tr>\n",
       "      <th>2628</th>\n",
       "      <td>27</td>\n",
       "      <td>c949f416aa0c0f816ec760d43f4bd06e</td>\n",
       "      <td>2019-07-05 03:10:16 +0000</td>\n",
       "      <td>Business Development Manager/ Manager</td>\n",
       "      <td>Not Disclosed by Recruiter</td>\n",
       "      <td>4 - 5 yrs</td>\n",
       "      <td>data analysis| Customer Service| Help Desk| In...</td>\n",
       "      <td>Documentation/Shipping</td>\n",
       "      <td>Ahmedabad</td>\n",
       "      <td>Export , Import , Merchandising</td>\n",
       "      <td>Courier, Transportation, Freight , Warehousing</td>\n",
       "      <td>Documentation/Shipping-Executive/Manager</td>\n",
       "    </tr>\n",
       "    <tr>\n",
       "      <th>2979</th>\n",
       "      <td>27</td>\n",
       "      <td>a57add4a2813fab75ef46703badaa1e2</td>\n",
       "      <td>2019-07-05 18:08:27 +0000</td>\n",
       "      <td>QA Engineer</td>\n",
       "      <td>Not Disclosed by Recruiter</td>\n",
       "      <td>3 - 8 yrs</td>\n",
       "      <td>Computer science| Functional testing| Shell sc...</td>\n",
       "      <td>QA/Testing/Documentation</td>\n",
       "      <td>Hyderabad</td>\n",
       "      <td>IT Software - QA &amp; Testing</td>\n",
       "      <td>Courier, Transportation, Freight , Warehousing</td>\n",
       "      <td>Quality Assurance/Quality Control Executive</td>\n",
       "    </tr>\n",
       "  </tbody>\n",
       "</table>\n",
       "</div>"
      ],
      "text/plain": [
       "      Cluster                           Uniq Id            Crawl Timestamp  \\\n",
       "22         27  498a81dbb1966dc3b032dcd54dea2e61  2019-07-05 02:39:32 +0000   \n",
       "32         27  36b432841127f2445623ccff69694736  2019-08-04 13:21:23 +0000   \n",
       "2188       27  72feec3e1473c3672c4cca76a54d601d  2019-08-04 22:03:17 +0000   \n",
       "2628       27  c949f416aa0c0f816ec760d43f4bd06e  2019-07-05 03:10:16 +0000   \n",
       "2979       27  a57add4a2813fab75ef46703badaa1e2  2019-07-05 18:08:27 +0000   \n",
       "\n",
       "                                              Job Title  \\\n",
       "22                                         QA Executive   \n",
       "32       Senior Executive- Contract Logistics- Bom WP-A   \n",
       "2188  Senior Manager - Last Mile ( Logistics Operati...   \n",
       "2628              Business Development Manager/ Manager   \n",
       "2979                                        QA Engineer   \n",
       "\n",
       "                       Job Salary Job Experience Required  \\\n",
       "22       2,00,000 - 3,00,000 PA.                2 - 5 yrs   \n",
       "32     Not Disclosed by Recruiter               2 - 5 yrs   \n",
       "2188   14,00,000 - 22,50,000 PA.                5 - 9 yrs   \n",
       "2628   Not Disclosed by Recruiter               4 - 5 yrs   \n",
       "2979   Not Disclosed by Recruiter               3 - 8 yrs   \n",
       "\n",
       "                                             Key Skills  \\\n",
       "22                                         QA Executive   \n",
       "32    Administration| Administrative Support| Contra...   \n",
       "2188  supply chain| logistics| Supply Chain Manageme...   \n",
       "2628  data analysis| Customer Service| Help Desk| In...   \n",
       "2979  Computer science| Functional testing| Shell sc...   \n",
       "\n",
       "                 Role Category   Location  \\\n",
       "22    QA/Testing/Documentation  Hyderabad   \n",
       "32                   Logistics     Mumbai   \n",
       "2188                 Logistics     Mumbai   \n",
       "2628    Documentation/Shipping  Ahmedabad   \n",
       "2979  QA/Testing/Documentation  Hyderabad   \n",
       "\n",
       "                          Functional Area  \\\n",
       "22             IT Software - QA & Testing   \n",
       "32    Purchase / Logistics / Supply Chain   \n",
       "2188  Purchase / Logistics / Supply Chain   \n",
       "2628      Export , Import , Merchandising   \n",
       "2979           IT Software - QA & Testing   \n",
       "\n",
       "                                            Industry  \\\n",
       "22                Pharma, Biotech, Clinical Research   \n",
       "32    Courier, Transportation, Freight , Warehousing   \n",
       "2188  Courier, Transportation, Freight , Warehousing   \n",
       "2628  Courier, Transportation, Freight , Warehousing   \n",
       "2979  Courier, Transportation, Freight , Warehousing   \n",
       "\n",
       "                                             Role  \n",
       "22    Quality Assurance/Quality Control Executive  \n",
       "32                            Logistics Executive  \n",
       "2188                            Logistics Manager  \n",
       "2628     Documentation/Shipping-Executive/Manager  \n",
       "2979  Quality Assurance/Quality Control Executive  "
      ]
     },
     "execution_count": 46,
     "metadata": {},
     "output_type": "execute_result"
    }
   ],
   "source": [
    "jobs[jobs['Cluster']==27].head()"
   ]
  },
  {
   "cell_type": "code",
   "execution_count": 47,
   "id": "d0bb6b87",
   "metadata": {},
   "outputs": [
    {
     "data": {
      "text/html": [
       "<div>\n",
       "<style scoped>\n",
       "    .dataframe tbody tr th:only-of-type {\n",
       "        vertical-align: middle;\n",
       "    }\n",
       "\n",
       "    .dataframe tbody tr th {\n",
       "        vertical-align: top;\n",
       "    }\n",
       "\n",
       "    .dataframe thead th {\n",
       "        text-align: right;\n",
       "    }\n",
       "</style>\n",
       "<table border=\"1\" class=\"dataframe\">\n",
       "  <thead>\n",
       "    <tr style=\"text-align: right;\">\n",
       "      <th></th>\n",
       "      <th>Cluster</th>\n",
       "      <th>Job Experience Required</th>\n",
       "      <th>Key Skills</th>\n",
       "      <th>Role Category</th>\n",
       "      <th>Location</th>\n",
       "      <th>Functional Area</th>\n",
       "      <th>Industry</th>\n",
       "      <th>Role</th>\n",
       "    </tr>\n",
       "  </thead>\n",
       "  <tbody>\n",
       "    <tr>\n",
       "      <th>0</th>\n",
       "      <td>19</td>\n",
       "      <td>5 - 10 yrs</td>\n",
       "      <td>Media Planning| Digital Media</td>\n",
       "      <td>Advertising</td>\n",
       "      <td>Mumbai</td>\n",
       "      <td>Marketing , Advertising , MR , PR , Media Plan...</td>\n",
       "      <td>Advertising, PR, MR, Event Management</td>\n",
       "      <td>Media Planning Executive/Manager</td>\n",
       "    </tr>\n",
       "    <tr>\n",
       "      <th>1</th>\n",
       "      <td>3</td>\n",
       "      <td>2 - 5 yrs</td>\n",
       "      <td>pre sales| closing| software knowledge| client...</td>\n",
       "      <td>Retail Sales</td>\n",
       "      <td>Pune,Pune</td>\n",
       "      <td>Sales , Retail , Business Development</td>\n",
       "      <td>IT-Software, Software Services</td>\n",
       "      <td>Sales Executive/Officer</td>\n",
       "    </tr>\n",
       "    <tr>\n",
       "      <th>2</th>\n",
       "      <td>1</td>\n",
       "      <td>0 - 1 yrs</td>\n",
       "      <td>Computer science| Fabrication| Quality check| ...</td>\n",
       "      <td>R&amp;D</td>\n",
       "      <td>Gurgaon</td>\n",
       "      <td>Engineering Design , R&amp;D</td>\n",
       "      <td>Recruitment, Staffing</td>\n",
       "      <td>R&amp;D Executive</td>\n",
       "    </tr>\n",
       "    <tr>\n",
       "      <th>3</th>\n",
       "      <td>15</td>\n",
       "      <td>0 - 5 yrs</td>\n",
       "      <td>Technical Support</td>\n",
       "      <td>Admin/Maintenance/Security/Datawarehousing</td>\n",
       "      <td>Mumbai</td>\n",
       "      <td>IT Software - Application Programming , Mainte...</td>\n",
       "      <td>IT-Software, Software Services</td>\n",
       "      <td>Technical Support Engineer</td>\n",
       "    </tr>\n",
       "    <tr>\n",
       "      <th>4</th>\n",
       "      <td>25</td>\n",
       "      <td>2 - 5 yrs</td>\n",
       "      <td>manual testing| test engineering| test cases| ...</td>\n",
       "      <td>Programming &amp; Design</td>\n",
       "      <td>Hyderabad</td>\n",
       "      <td>IT Software - QA &amp; Testing</td>\n",
       "      <td>IT-Software, Software Services</td>\n",
       "      <td>Testing Engineer</td>\n",
       "    </tr>\n",
       "  </tbody>\n",
       "</table>\n",
       "</div>"
      ],
      "text/plain": [
       "   Cluster Job Experience Required  \\\n",
       "0       19              5 - 10 yrs   \n",
       "1        3               2 - 5 yrs   \n",
       "2        1               0 - 1 yrs   \n",
       "3       15               0 - 5 yrs   \n",
       "4       25               2 - 5 yrs   \n",
       "\n",
       "                                          Key Skills  \\\n",
       "0                      Media Planning| Digital Media   \n",
       "1  pre sales| closing| software knowledge| client...   \n",
       "2  Computer science| Fabrication| Quality check| ...   \n",
       "3                                  Technical Support   \n",
       "4  manual testing| test engineering| test cases| ...   \n",
       "\n",
       "                                Role Category   Location  \\\n",
       "0                                 Advertising     Mumbai   \n",
       "1                                Retail Sales  Pune,Pune   \n",
       "2                                         R&D    Gurgaon   \n",
       "3  Admin/Maintenance/Security/Datawarehousing     Mumbai   \n",
       "4                        Programming & Design  Hyderabad   \n",
       "\n",
       "                                     Functional Area  \\\n",
       "0  Marketing , Advertising , MR , PR , Media Plan...   \n",
       "1              Sales , Retail , Business Development   \n",
       "2                           Engineering Design , R&D   \n",
       "3  IT Software - Application Programming , Mainte...   \n",
       "4                         IT Software - QA & Testing   \n",
       "\n",
       "                                Industry                              Role  \n",
       "0  Advertising, PR, MR, Event Management  Media Planning Executive/Manager  \n",
       "1         IT-Software, Software Services           Sales Executive/Officer  \n",
       "2                  Recruitment, Staffing                     R&D Executive  \n",
       "3         IT-Software, Software Services        Technical Support Engineer  \n",
       "4         IT-Software, Software Services                  Testing Engineer  "
      ]
     },
     "execution_count": 47,
     "metadata": {},
     "output_type": "execute_result"
    }
   ],
   "source": [
    "jobs = jobs[['Cluster','Job Experience Required','Key Skills', 'Role Category', 'Location',\n",
    "       'Functional Area', 'Industry', 'Role']]\n",
    "jobs.head()"
   ]
  },
  {
   "cell_type": "code",
   "execution_count": 48,
   "id": "fa7bf640",
   "metadata": {},
   "outputs": [],
   "source": [
    "X = jobs.iloc[:,:-1]\n",
    "y = jobs.iloc[:,7]"
   ]
  },
  {
   "cell_type": "code",
   "execution_count": 49,
   "id": "b7f24666",
   "metadata": {},
   "outputs": [
    {
     "data": {
      "text/html": [
       "<div>\n",
       "<style scoped>\n",
       "    .dataframe tbody tr th:only-of-type {\n",
       "        vertical-align: middle;\n",
       "    }\n",
       "\n",
       "    .dataframe tbody tr th {\n",
       "        vertical-align: top;\n",
       "    }\n",
       "\n",
       "    .dataframe thead th {\n",
       "        text-align: right;\n",
       "    }\n",
       "</style>\n",
       "<table border=\"1\" class=\"dataframe\">\n",
       "  <thead>\n",
       "    <tr style=\"text-align: right;\">\n",
       "      <th></th>\n",
       "      <th>Cluster</th>\n",
       "      <th>Job Experience Required</th>\n",
       "      <th>Key Skills</th>\n",
       "      <th>Role Category</th>\n",
       "      <th>Location</th>\n",
       "      <th>Functional Area</th>\n",
       "      <th>Industry</th>\n",
       "    </tr>\n",
       "  </thead>\n",
       "  <tbody>\n",
       "    <tr>\n",
       "      <th>0</th>\n",
       "      <td>19</td>\n",
       "      <td>5 - 10 yrs</td>\n",
       "      <td>Media Planning| Digital Media</td>\n",
       "      <td>Advertising</td>\n",
       "      <td>Mumbai</td>\n",
       "      <td>Marketing , Advertising , MR , PR , Media Plan...</td>\n",
       "      <td>Advertising, PR, MR, Event Management</td>\n",
       "    </tr>\n",
       "    <tr>\n",
       "      <th>1</th>\n",
       "      <td>3</td>\n",
       "      <td>2 - 5 yrs</td>\n",
       "      <td>pre sales| closing| software knowledge| client...</td>\n",
       "      <td>Retail Sales</td>\n",
       "      <td>Pune,Pune</td>\n",
       "      <td>Sales , Retail , Business Development</td>\n",
       "      <td>IT-Software, Software Services</td>\n",
       "    </tr>\n",
       "    <tr>\n",
       "      <th>2</th>\n",
       "      <td>1</td>\n",
       "      <td>0 - 1 yrs</td>\n",
       "      <td>Computer science| Fabrication| Quality check| ...</td>\n",
       "      <td>R&amp;D</td>\n",
       "      <td>Gurgaon</td>\n",
       "      <td>Engineering Design , R&amp;D</td>\n",
       "      <td>Recruitment, Staffing</td>\n",
       "    </tr>\n",
       "    <tr>\n",
       "      <th>3</th>\n",
       "      <td>15</td>\n",
       "      <td>0 - 5 yrs</td>\n",
       "      <td>Technical Support</td>\n",
       "      <td>Admin/Maintenance/Security/Datawarehousing</td>\n",
       "      <td>Mumbai</td>\n",
       "      <td>IT Software - Application Programming , Mainte...</td>\n",
       "      <td>IT-Software, Software Services</td>\n",
       "    </tr>\n",
       "    <tr>\n",
       "      <th>4</th>\n",
       "      <td>25</td>\n",
       "      <td>2 - 5 yrs</td>\n",
       "      <td>manual testing| test engineering| test cases| ...</td>\n",
       "      <td>Programming &amp; Design</td>\n",
       "      <td>Hyderabad</td>\n",
       "      <td>IT Software - QA &amp; Testing</td>\n",
       "      <td>IT-Software, Software Services</td>\n",
       "    </tr>\n",
       "    <tr>\n",
       "      <th>...</th>\n",
       "      <td>...</td>\n",
       "      <td>...</td>\n",
       "      <td>...</td>\n",
       "      <td>...</td>\n",
       "      <td>...</td>\n",
       "      <td>...</td>\n",
       "      <td>...</td>\n",
       "    </tr>\n",
       "    <tr>\n",
       "      <th>29781</th>\n",
       "      <td>2</td>\n",
       "      <td>9 - 12 yrs</td>\n",
       "      <td>Graphics| C++| USB| Project management| SOC| F...</td>\n",
       "      <td>Programming &amp; Design</td>\n",
       "      <td>Bengaluru</td>\n",
       "      <td>IT Software - Embedded , EDA , VLSI , ASIC , C...</td>\n",
       "      <td>Semiconductors, Electronics</td>\n",
       "    </tr>\n",
       "    <tr>\n",
       "      <th>29782</th>\n",
       "      <td>6</td>\n",
       "      <td>1 - 5 yrs</td>\n",
       "      <td>Service delivery| LMS| CRE| Integration servic...</td>\n",
       "      <td>Operations</td>\n",
       "      <td>Chennai</td>\n",
       "      <td>ITES , BPO , KPO , LPO , Customer Service , Op...</td>\n",
       "      <td>Education, Teaching, Training</td>\n",
       "    </tr>\n",
       "    <tr>\n",
       "      <th>29783</th>\n",
       "      <td>21</td>\n",
       "      <td>4 - 6 yrs</td>\n",
       "      <td>Counselor| Mentor| Trainer| Advisor| Teaching</td>\n",
       "      <td>University Level</td>\n",
       "      <td>Howrah</td>\n",
       "      <td>Teaching , Education , Training , Counselling</td>\n",
       "      <td>Education, Teaching, Training</td>\n",
       "    </tr>\n",
       "    <tr>\n",
       "      <th>29784</th>\n",
       "      <td>11</td>\n",
       "      <td>5 - 10 yrs</td>\n",
       "      <td>Security Analysis| Software Development Life C...</td>\n",
       "      <td>Programming &amp; Design</td>\n",
       "      <td>Pune</td>\n",
       "      <td>IT Software - Application Programming , Mainte...</td>\n",
       "      <td>IT-Software, Software Services</td>\n",
       "    </tr>\n",
       "    <tr>\n",
       "      <th>29785</th>\n",
       "      <td>19</td>\n",
       "      <td>2 - 7 yrs</td>\n",
       "      <td>Press release| Public relations| Publishing| W...</td>\n",
       "      <td>Online/Digital Marketing</td>\n",
       "      <td>Bengaluru</td>\n",
       "      <td>Marketing , Advertising , MR , PR , Media Plan...</td>\n",
       "      <td>IT-Software, Software Services</td>\n",
       "    </tr>\n",
       "  </tbody>\n",
       "</table>\n",
       "<p>27087 rows × 7 columns</p>\n",
       "</div>"
      ],
      "text/plain": [
       "       Cluster Job Experience Required  \\\n",
       "0           19              5 - 10 yrs   \n",
       "1            3               2 - 5 yrs   \n",
       "2            1               0 - 1 yrs   \n",
       "3           15               0 - 5 yrs   \n",
       "4           25               2 - 5 yrs   \n",
       "...        ...                     ...   \n",
       "29781        2              9 - 12 yrs   \n",
       "29782        6               1 - 5 yrs   \n",
       "29783       21               4 - 6 yrs   \n",
       "29784       11              5 - 10 yrs   \n",
       "29785       19               2 - 7 yrs   \n",
       "\n",
       "                                              Key Skills  \\\n",
       "0                          Media Planning| Digital Media   \n",
       "1      pre sales| closing| software knowledge| client...   \n",
       "2      Computer science| Fabrication| Quality check| ...   \n",
       "3                                      Technical Support   \n",
       "4      manual testing| test engineering| test cases| ...   \n",
       "...                                                  ...   \n",
       "29781  Graphics| C++| USB| Project management| SOC| F...   \n",
       "29782  Service delivery| LMS| CRE| Integration servic...   \n",
       "29783      Counselor| Mentor| Trainer| Advisor| Teaching   \n",
       "29784  Security Analysis| Software Development Life C...   \n",
       "29785  Press release| Public relations| Publishing| W...   \n",
       "\n",
       "                                    Role Category   Location  \\\n",
       "0                                     Advertising     Mumbai   \n",
       "1                                    Retail Sales  Pune,Pune   \n",
       "2                                             R&D    Gurgaon   \n",
       "3      Admin/Maintenance/Security/Datawarehousing     Mumbai   \n",
       "4                            Programming & Design  Hyderabad   \n",
       "...                                           ...        ...   \n",
       "29781                        Programming & Design  Bengaluru   \n",
       "29782                                  Operations    Chennai   \n",
       "29783                            University Level     Howrah   \n",
       "29784                        Programming & Design       Pune   \n",
       "29785                    Online/Digital Marketing  Bengaluru   \n",
       "\n",
       "                                         Functional Area  \\\n",
       "0      Marketing , Advertising , MR , PR , Media Plan...   \n",
       "1                  Sales , Retail , Business Development   \n",
       "2                               Engineering Design , R&D   \n",
       "3      IT Software - Application Programming , Mainte...   \n",
       "4                             IT Software - QA & Testing   \n",
       "...                                                  ...   \n",
       "29781  IT Software - Embedded , EDA , VLSI , ASIC , C...   \n",
       "29782  ITES , BPO , KPO , LPO , Customer Service , Op...   \n",
       "29783      Teaching , Education , Training , Counselling   \n",
       "29784  IT Software - Application Programming , Mainte...   \n",
       "29785  Marketing , Advertising , MR , PR , Media Plan...   \n",
       "\n",
       "                                    Industry  \n",
       "0      Advertising, PR, MR, Event Management  \n",
       "1             IT-Software, Software Services  \n",
       "2                      Recruitment, Staffing  \n",
       "3             IT-Software, Software Services  \n",
       "4             IT-Software, Software Services  \n",
       "...                                      ...  \n",
       "29781            Semiconductors, Electronics  \n",
       "29782          Education, Teaching, Training  \n",
       "29783          Education, Teaching, Training  \n",
       "29784         IT-Software, Software Services  \n",
       "29785         IT-Software, Software Services  \n",
       "\n",
       "[27087 rows x 7 columns]"
      ]
     },
     "execution_count": 49,
     "metadata": {},
     "output_type": "execute_result"
    }
   ],
   "source": [
    "X"
   ]
  },
  {
   "cell_type": "code",
   "execution_count": 50,
   "id": "e249857c",
   "metadata": {},
   "outputs": [
    {
     "data": {
      "text/plain": [
       "0                  Media Planning Executive/Manager\n",
       "1                           Sales Executive/Officer\n",
       "2                                     R&D Executive\n",
       "3                        Technical Support Engineer\n",
       "4                                  Testing Engineer\n",
       "                            ...                    \n",
       "29781                            Software Developer\n",
       "29782                            Operations Manager\n",
       "29783                            Lecturer/Professor\n",
       "29784                            Software Developer\n",
       "29785    Search Engine Optimisation /SEO Specialist\n",
       "Name: Role, Length: 27087, dtype: object"
      ]
     },
     "execution_count": 50,
     "metadata": {},
     "output_type": "execute_result"
    }
   ],
   "source": [
    "y"
   ]
  },
  {
   "cell_type": "code",
   "execution_count": 51,
   "id": "47456cd4",
   "metadata": {},
   "outputs": [
    {
     "data": {
      "text/plain": [
       "array(['Advertising', 'Retail Sales', 'R&D',\n",
       "       'Admin/Maintenance/Security/Datawarehousing',\n",
       "       'Programming & Design', 'Institutional Sales', 'Voice',\n",
       "       'Corporate Planning/Consulting/Strategy', 'Operations',\n",
       "       'Online/Digital Marketing', 'Engineering Design', 'Accounts',\n",
       "       'Retail/Personal Banking', 'QA/Testing/Documentation',\n",
       "       'Project Management', 'Logistics', 'Technical Support',\n",
       "       'Senior Management', 'Content Development', 'HR/ Recruitment / IR',\n",
       "       'Corporate Sales', 'Architectural Services',\n",
       "       'Front Office/Customer Care',\n",
       "       'Production/Manufacturing/Maintenance', 'Creative',\n",
       "       'Channel Sales', 'Sales Support',\n",
       "       'System Design/Implementation/ERP/CRM',\n",
       "       'Back Office/Web/Transaction Processing', 'Quality',\n",
       "       'Analytics & BI', 'Other', 'Finance/Audit', 'Public Relations',\n",
       "       'University Level', 'Drug Regulatory Affairs/Documentation',\n",
       "       'Teachers', 'Food & Beverage',\n",
       "       'Production/Merchandising/Business Development',\n",
       "       'Administration/Facility Management',\n",
       "       'Purchase/Material Management', 'Training', 'Medical Professional',\n",
       "       'Journalist/Writer', 'Marketing', 'General Insurance',\n",
       "       'Safety/Health/Environment', 'Ticketing/Travel/Documentation',\n",
       "       'Site Engineering', 'Housekeeping', 'Pre Sales',\n",
       "       'Investment Banking',\n",
       "       'Mutual Funds/Fund Management/Asset Management',\n",
       "       'Financial Services/Stock Broking', 'Documentation/Shipping',\n",
       "       'Interior Design', 'Marketing Research',\n",
       "       'Life Insurance/Financial Services', 'Corporate Banking',\n",
       "       'Designer', 'Production/Technical', 'After Sales Service',\n",
       "       'Operations/Processes/Finance/Legal', 'IT Hardware', 'Treasury'],\n",
       "      dtype=object)"
      ]
     },
     "execution_count": 51,
     "metadata": {},
     "output_type": "execute_result"
    }
   ],
   "source": [
    "X['Role Category'].unique()"
   ]
  },
  {
   "cell_type": "code",
   "execution_count": 52,
   "id": "5f0575ea",
   "metadata": {},
   "outputs": [
    {
     "data": {
      "text/plain": [
       "array(['Marketing , Advertising , MR , PR , Media Planning',\n",
       "       'Sales , Retail , Business Development',\n",
       "       'Engineering Design , R&D',\n",
       "       'IT Software - Application Programming , Maintenance',\n",
       "       'IT Software - QA & Testing',\n",
       "       'ITES , BPO , KPO , LPO , Customer Service , Operations',\n",
       "       'Strategy , Management Consulting , Corporate Planning',\n",
       "       'IT Software - eCommerce , Internet Technologies',\n",
       "       'Accounts , Finance , Tax , Company Secretary , Audit',\n",
       "       'Financial Services , Banking , Investments , Insurance',\n",
       "       'IT Software - DBA , Datawarehousing',\n",
       "       'IT Software - Network Administration , Security',\n",
       "       'Purchase / Logistics / Supply Chain',\n",
       "       'IT Hardware , Technical Support , Telecom Engineering',\n",
       "       'IT Software - Mobile', 'Journalism , Editing , Content',\n",
       "       'HR , Recruitment , Administration , IR',\n",
       "       'Architecture , Interior Design', 'IT Software - Other',\n",
       "       'IT Software - Embedded , EDA , VLSI , ASIC , Chip Design',\n",
       "       'Hotels , Restaurants', 'Production , Manufacturing , Maintenance',\n",
       "       'Design , Creative , User Experience',\n",
       "       'Analytics & Business Intelligence',\n",
       "       'Teaching , Education , Training , Counselling',\n",
       "       'Medical , Healthcare , R&D , Pharmaceuticals , Biotechnology',\n",
       "       'IT Software - System Programming',\n",
       "       'Export , Import , Merchandising',\n",
       "       'IT Software - Telecom Software', 'IT Software - ERP , CRM',\n",
       "       'Supply Chain , Logistics , Purchase , Materials',\n",
       "       'Site Engineering , Project Management',\n",
       "       'Travel , Tours , Ticketing , Airlines',\n",
       "       'Legal , Regulatory , Intellectual Property',\n",
       "       'IT Software - Systems , EDP , MIS',\n",
       "       'IT Software - Client/Server Programming',\n",
       "       'Fashion Designing , Merchandising',\n",
       "       'TV , Films , Production , Broadcasting',\n",
       "       'Executive Assistant , Front Office , Data Entry',\n",
       "       'IT Software - Middleware', 'IT Software - Mainframe',\n",
       "       'CSR & Sustainability', 'Defence Forces , Security Services'],\n",
       "      dtype=object)"
      ]
     },
     "execution_count": 52,
     "metadata": {},
     "output_type": "execute_result"
    }
   ],
   "source": [
    "X['Functional Area'].unique()"
   ]
  },
  {
   "cell_type": "code",
   "execution_count": 53,
   "id": "37a81631",
   "metadata": {},
   "outputs": [
    {
     "data": {
      "text/plain": [
       "array(['Mumbai', 'Pune,Pune', 'Gurgaon', ...,\n",
       "       'Delhi NCR (New Friends Colony)', 'Bengaluru,Bhubaneshwar',\n",
       "       'Howrah'], dtype=object)"
      ]
     },
     "execution_count": 53,
     "metadata": {},
     "output_type": "execute_result"
    }
   ],
   "source": [
    "X['Location'].unique()"
   ]
  },
  {
   "cell_type": "code",
   "execution_count": 54,
   "id": "43784807",
   "metadata": {},
   "outputs": [
    {
     "data": {
      "text/plain": [
       "array([10120, 22639,  3985, ..., 14922, 14781, 11936])"
      ]
     },
     "execution_count": 54,
     "metadata": {},
     "output_type": "execute_result"
    }
   ],
   "source": [
    "from sklearn import preprocessing\n",
    " \n",
    "label_encoder = preprocessing.LabelEncoder()\n",
    "\n",
    "X['Key Skills']= label_encoder.fit_transform(X['Key Skills'])\n",
    " \n",
    "X['Key Skills'].unique()"
   ]
  },
  {
   "cell_type": "code",
   "execution_count": 55,
   "id": "ba7d4c27",
   "metadata": {},
   "outputs": [
    {
     "data": {
      "text/plain": [
       "array([ 3, 51, 50,  1, 44, 26, 64, 11, 37, 36, 17,  0, 52, 48, 45, 31, 59,\n",
       "       55,  9, 23, 12,  6, 21, 41, 13,  8, 54, 57,  7, 49,  5, 39, 18, 46,\n",
       "       63, 16, 58, 20, 42,  2, 47, 61, 34, 29, 32, 22, 53, 60, 56, 24, 40,\n",
       "       28, 35, 19, 15, 27, 33, 30, 10, 14, 43,  4, 38, 25, 62])"
      ]
     },
     "execution_count": 55,
     "metadata": {},
     "output_type": "execute_result"
    }
   ],
   "source": [
    "label_encoder = preprocessing.LabelEncoder()\n",
    "\n",
    "X['Role Category']= label_encoder.fit_transform(X['Role Category'])\n",
    " \n",
    "X['Role Category'].unique()"
   ]
  },
  {
   "cell_type": "code",
   "execution_count": 56,
   "id": "65160ce3",
   "metadata": {},
   "outputs": [
    {
     "data": {
      "text/plain": [
       "array([1768, 2320, 1347, ...,  915,  376, 1435])"
      ]
     },
     "execution_count": 56,
     "metadata": {},
     "output_type": "execute_result"
    }
   ],
   "source": [
    "label_encoder = preprocessing.LabelEncoder()\n",
    "\n",
    "X['Location']= label_encoder.fit_transform(X['Location'])\n",
    " \n",
    "X['Location'].unique()"
   ]
  },
  {
   "cell_type": "code",
   "execution_count": 57,
   "id": "8e180e10",
   "metadata": {},
   "outputs": [
    {
     "data": {
      "text/plain": [
       "array([32, 36,  6, 14, 24, 29, 38, 28,  0, 10, 16, 22, 35, 13, 21, 30, 11,\n",
       "        2, 23, 18, 12, 34,  5,  1, 41, 33, 25,  8, 27, 17, 39, 37, 42, 31,\n",
       "       26, 15,  9, 40,  7, 20, 19,  3,  4])"
      ]
     },
     "execution_count": 57,
     "metadata": {},
     "output_type": "execute_result"
    }
   ],
   "source": [
    "label_encoder = preprocessing.LabelEncoder()\n",
    "\n",
    "X['Functional Area']= label_encoder.fit_transform(X['Functional Area'])\n",
    " \n",
    "X['Functional Area'].unique()"
   ]
  },
  {
   "cell_type": "code",
   "execution_count": 58,
   "id": "5e462cb5",
   "metadata": {},
   "outputs": [
    {
     "data": {
      "text/plain": [
       "array([ 2, 28, 49, 47, 16,  9, 27, 29, 58, 30, 44,  4, 21, 51, 55, 32, 18,\n",
       "       36,  7, 56, 59, 41, 11, 14,  5, 38, 10, 62, 42, 57, 33, 17, 15,  6,\n",
       "        1, 53, 19,  0,  8, 20, 26, 45, 50, 13, 46, 34, 43, 22,  3, 25, 23,\n",
       "       39, 40, 35, 60, 52, 54, 24, 12, 61, 48, 37, 31])"
      ]
     },
     "execution_count": 58,
     "metadata": {},
     "output_type": "execute_result"
    }
   ],
   "source": [
    "label_encoder = preprocessing.LabelEncoder()\n",
    "\n",
    "X['Industry']= label_encoder.fit_transform(X['Industry'])\n",
    " \n",
    "X['Industry'].unique()"
   ]
  },
  {
   "cell_type": "code",
   "execution_count": 59,
   "id": "4fe54532",
   "metadata": {},
   "outputs": [
    {
     "data": {
      "text/plain": [
       "array([188, 144,   2,  13, 195,   0, 241, 148,  28,  30, 171, 142, 172,\n",
       "         9,  11, 207, 186, 168, 215, 223, 140, 114,  44, 147,  26, 170,\n",
       "        42, 197, 174, 201,  24,   6,  22, 166, 203, 184, 182, 146,  81,\n",
       "       227, 116,  23, 229,  36, 194, 178, 187,  40, 180, 141, 185,  73,\n",
       "        82, 143, 179, 202, 173, 181,  46, 211, 199,  75, 209,  69,   5,\n",
       "        51, 130, 155, 111, 226,  71, 133, 167, 110,   1,  10, 100, 213,\n",
       "       219, 177,  78, 208, 214, 225, 228, 127,  87,   8,  27, 105,  48,\n",
       "       145, 205, 196, 221,  56, 119, 193,  38,  41, 200,  18, 237, 121,\n",
       "       136, 222, 153, 239, 210, 169,  12, 135, 236, 149,  96, 232,  15,\n",
       "       107, 132, 240,  67,  16, 156, 138, 112,  21,  85, 158,  32, 183,\n",
       "       120,  79, 212, 230, 216,  54,  35,  25,  65,  99,  88, 154, 104,\n",
       "       192,  29,  63, 106, 115,  49, 102, 103, 206,  20, 204, 163,  98,\n",
       "       235, 234, 152,  31,  68, 198,  19, 125,  91, 131, 101,  37, 129,\n",
       "       139,  55,  60, 164,  76, 113, 242,  47,  53,  14, 160,  84,  80,\n",
       "        83, 157, 162, 218,  57, 231,  62,  90,  17,  59,  94, 124, 108,\n",
       "         3, 220,  86, 150, 165,  92,  39,   7,  33, 117,  74,  50, 176,\n",
       "        45, 190, 126,  52, 109, 151, 175, 134,  64, 137, 118, 217,  34,\n",
       "       233,  61,  95,  97, 191,  93,  70,  66, 159,   4,  77, 123, 224,\n",
       "        72,  58, 189, 128, 238,  43, 122,  89, 161])"
      ]
     },
     "execution_count": 59,
     "metadata": {},
     "output_type": "execute_result"
    }
   ],
   "source": [
    "label_encoder = preprocessing.LabelEncoder()\n",
    "\n",
    "X['Job Experience Required']= label_encoder.fit_transform(X['Job Experience Required'])\n",
    " \n",
    "X['Job Experience Required'].unique()"
   ]
  },
  {
   "cell_type": "code",
   "execution_count": 60,
   "id": "d85cc966",
   "metadata": {},
   "outputs": [
    {
     "data": {
      "text/html": [
       "<div>\n",
       "<style scoped>\n",
       "    .dataframe tbody tr th:only-of-type {\n",
       "        vertical-align: middle;\n",
       "    }\n",
       "\n",
       "    .dataframe tbody tr th {\n",
       "        vertical-align: top;\n",
       "    }\n",
       "\n",
       "    .dataframe thead th {\n",
       "        text-align: right;\n",
       "    }\n",
       "</style>\n",
       "<table border=\"1\" class=\"dataframe\">\n",
       "  <thead>\n",
       "    <tr style=\"text-align: right;\">\n",
       "      <th></th>\n",
       "      <th>Cluster</th>\n",
       "      <th>Job Experience Required</th>\n",
       "      <th>Key Skills</th>\n",
       "      <th>Role Category</th>\n",
       "      <th>Location</th>\n",
       "      <th>Functional Area</th>\n",
       "      <th>Industry</th>\n",
       "    </tr>\n",
       "  </thead>\n",
       "  <tbody>\n",
       "    <tr>\n",
       "      <th>0</th>\n",
       "      <td>19</td>\n",
       "      <td>188</td>\n",
       "      <td>10120</td>\n",
       "      <td>3</td>\n",
       "      <td>1768</td>\n",
       "      <td>32</td>\n",
       "      <td>2</td>\n",
       "    </tr>\n",
       "    <tr>\n",
       "      <th>1</th>\n",
       "      <td>3</td>\n",
       "      <td>144</td>\n",
       "      <td>22639</td>\n",
       "      <td>51</td>\n",
       "      <td>2320</td>\n",
       "      <td>36</td>\n",
       "      <td>28</td>\n",
       "    </tr>\n",
       "    <tr>\n",
       "      <th>2</th>\n",
       "      <td>1</td>\n",
       "      <td>2</td>\n",
       "      <td>3985</td>\n",
       "      <td>50</td>\n",
       "      <td>1347</td>\n",
       "      <td>6</td>\n",
       "      <td>49</td>\n",
       "    </tr>\n",
       "    <tr>\n",
       "      <th>3</th>\n",
       "      <td>15</td>\n",
       "      <td>13</td>\n",
       "      <td>16100</td>\n",
       "      <td>1</td>\n",
       "      <td>1768</td>\n",
       "      <td>14</td>\n",
       "      <td>28</td>\n",
       "    </tr>\n",
       "    <tr>\n",
       "      <th>4</th>\n",
       "      <td>25</td>\n",
       "      <td>144</td>\n",
       "      <td>21757</td>\n",
       "      <td>44</td>\n",
       "      <td>1438</td>\n",
       "      <td>24</td>\n",
       "      <td>28</td>\n",
       "    </tr>\n",
       "  </tbody>\n",
       "</table>\n",
       "</div>"
      ],
      "text/plain": [
       "   Cluster  Job Experience Required  Key Skills  Role Category  Location  \\\n",
       "0       19                      188       10120              3      1768   \n",
       "1        3                      144       22639             51      2320   \n",
       "2        1                        2        3985             50      1347   \n",
       "3       15                       13       16100              1      1768   \n",
       "4       25                      144       21757             44      1438   \n",
       "\n",
       "   Functional Area  Industry  \n",
       "0               32         2  \n",
       "1               36        28  \n",
       "2                6        49  \n",
       "3               14        28  \n",
       "4               24        28  "
      ]
     },
     "execution_count": 60,
     "metadata": {},
     "output_type": "execute_result"
    }
   ],
   "source": [
    "X.head()"
   ]
  },
  {
   "cell_type": "code",
   "execution_count": 61,
   "id": "244f531b",
   "metadata": {},
   "outputs": [],
   "source": [
    "from sklearn.model_selection import train_test_split\n",
    "X_train, X_test, y_train, y_test = train_test_split(X, y, test_size=0.25, random_state=42)"
   ]
  },
  {
   "cell_type": "code",
   "execution_count": 62,
   "id": "57170cd0",
   "metadata": {},
   "outputs": [],
   "source": [
    "from sklearn import preprocessing\n",
    "min_max_scaler = preprocessing.MinMaxScaler(feature_range =(0, 30))\n",
    "\n",
    "X_train = min_max_scaler.fit_transform(X_train)\n",
    "X_test = min_max_scaler.transform(X_test)"
   ]
  },
  {
   "cell_type": "code",
   "execution_count": 67,
   "id": "8591f1e9",
   "metadata": {},
   "outputs": [
    {
     "name": "stdout",
     "output_type": "stream",
     "text": [
      "[[25.86206897 23.15352697  1.81366008 ...  3.04130163 17.14285714\n",
      "  13.5483871 ]\n",
      " [26.89655172 18.42323651 14.86352056 ... 27.40926158 22.85714286\n",
      "  13.5483871 ]\n",
      " [11.37931034 10.33195021  1.72510008 ...  3.04130163 10.\n",
      "  13.5483871 ]\n",
      " ...\n",
      " [ 9.31034483 30.         10.74608759 ... 27.40926158 11.42857143\n",
      "  13.5483871 ]\n",
      " [ 3.10344828 26.26556017 14.81256824 ...  3.04130163 25.71428571\n",
      "   8.70967742]\n",
      " [ 2.06896552 21.65975104 15.17893971 ... 10.43804756 10.\n",
      "  15.48387097]]\n"
     ]
    }
   ],
   "source": [
    "print(X_train)"
   ]
  },
  {
   "cell_type": "code",
   "execution_count": null,
   "id": "ed9dc521",
   "metadata": {},
   "outputs": [],
   "source": [
    "from sklearn.ensemble import RandomForestClassifier\n",
    "rforest= RandomForestClassifier(max_depth=10,random_state=0,criterion ='entropy')\n",
    "rforest.fit(X_train, y_train)"
   ]
  },
  {
   "cell_type": "code",
   "execution_count": null,
   "id": "35e813bc",
   "metadata": {},
   "outputs": [],
   "source": [
    "predictions = rforest.predict(X_test)\n",
    "predictions"
   ]
  },
  {
   "cell_type": "code",
   "execution_count": null,
   "id": "59196ef7",
   "metadata": {},
   "outputs": [],
   "source": [
    "y_test"
   ]
  },
  {
   "cell_type": "code",
   "execution_count": null,
   "id": "019f56f0",
   "metadata": {},
   "outputs": [],
   "source": [
    "from sklearn.metrics import accuracy_score\n",
    "acc = accuracy_score(y_test, predictions)\n",
    "print(acc)"
   ]
  },
  {
   "cell_type": "code",
   "execution_count": null,
   "id": "7f8727af",
   "metadata": {},
   "outputs": [],
   "source": []
  }
 ],
 "metadata": {
  "kernelspec": {
   "display_name": "Python 3",
   "language": "python",
   "name": "python3"
  },
  "language_info": {
   "codemirror_mode": {
    "name": "ipython",
    "version": 3
   },
   "file_extension": ".py",
   "mimetype": "text/x-python",
   "name": "python",
   "nbconvert_exporter": "python",
   "pygments_lexer": "ipython3",
   "version": "3.8.8"
  }
 },
 "nbformat": 4,
 "nbformat_minor": 5
}
