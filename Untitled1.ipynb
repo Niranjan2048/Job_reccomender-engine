{
 "cells": [
  {
   "cell_type": "code",
   "execution_count": 1,
   "id": "e81e63c9",
   "metadata": {},
   "outputs": [
    {
     "name": "stdout",
     "output_type": "stream",
     "text": [
      "Requirement already satisfied: kmodes in d:\\anaconda\\lib\\site-packages (0.11.0)\n",
      "Requirement already satisfied: joblib>=0.11 in d:\\anaconda\\lib\\site-packages (from kmodes) (1.0.1)\n",
      "Requirement already satisfied: scipy>=0.13.3 in d:\\anaconda\\lib\\site-packages (from kmodes) (1.6.2)\n",
      "Requirement already satisfied: numpy>=1.10.4 in d:\\anaconda\\lib\\site-packages (from kmodes) (1.20.1)\n",
      "Requirement already satisfied: scikit-learn>=0.22.0 in d:\\anaconda\\lib\\site-packages (from kmodes) (0.24.1)\n",
      "Requirement already satisfied: threadpoolctl>=2.0.0 in d:\\anaconda\\lib\\site-packages (from scikit-learn>=0.22.0->kmodes) (2.1.0)\n"
     ]
    }
   ],
   "source": [
    "!pip install kmodes"
   ]
  },
  {
   "cell_type": "code",
   "execution_count": 2,
   "id": "d1cc1fdb",
   "metadata": {},
   "outputs": [],
   "source": [
    "import matplotlib.pyplot as plt\n",
    "import seaborn as sns\n",
    "import pandas as pd\n",
    "import numpy as np\n",
    "import ast \n",
    "from scipy import stats\n",
    "from ast import literal_eval\n",
    "from sklearn.feature_extraction.text import TfidfVectorizer, CountVectorizer\n",
    "from sklearn.metrics.pairwise import linear_kernel, cosine_similarity\n",
    "from kmodes.kprototypes import KPrototypes\n",
    "from kmodes.kmodes import KModes\n",
    "from sklearn.preprocessing import OneHotEncoder"
   ]
  },
  {
   "cell_type": "code",
   "execution_count": 3,
   "id": "20a549a0",
   "metadata": {},
   "outputs": [
    {
     "data": {
      "text/html": [
       "<div>\n",
       "<style scoped>\n",
       "    .dataframe tbody tr th:only-of-type {\n",
       "        vertical-align: middle;\n",
       "    }\n",
       "\n",
       "    .dataframe tbody tr th {\n",
       "        vertical-align: top;\n",
       "    }\n",
       "\n",
       "    .dataframe thead th {\n",
       "        text-align: right;\n",
       "    }\n",
       "</style>\n",
       "<table border=\"1\" class=\"dataframe\">\n",
       "  <thead>\n",
       "    <tr style=\"text-align: right;\">\n",
       "      <th></th>\n",
       "      <th>Uniq Id</th>\n",
       "      <th>Crawl Timestamp</th>\n",
       "      <th>Job Title</th>\n",
       "      <th>Job Salary</th>\n",
       "      <th>Job Experience Required</th>\n",
       "      <th>Key Skills</th>\n",
       "      <th>Role Category</th>\n",
       "      <th>Location</th>\n",
       "      <th>Functional Area</th>\n",
       "      <th>Industry</th>\n",
       "      <th>Role</th>\n",
       "    </tr>\n",
       "  </thead>\n",
       "  <tbody>\n",
       "    <tr>\n",
       "      <th>0</th>\n",
       "      <td>9be62c49a0b7ebe982a4af1edaa7bc5f</td>\n",
       "      <td>2019-07-05 01:46:07 +0000</td>\n",
       "      <td>Digital Media Planner</td>\n",
       "      <td>Not Disclosed by Recruiter</td>\n",
       "      <td>5 - 10 yrs</td>\n",
       "      <td>Media Planning| Digital Media</td>\n",
       "      <td>Advertising</td>\n",
       "      <td>Mumbai</td>\n",
       "      <td>Marketing , Advertising , MR , PR , Media Plan...</td>\n",
       "      <td>Advertising, PR, MR, Event Management</td>\n",
       "      <td>Media Planning Executive/Manager</td>\n",
       "    </tr>\n",
       "    <tr>\n",
       "      <th>1</th>\n",
       "      <td>3c52d436e39f596b22519da2612f6a56</td>\n",
       "      <td>2019-07-06 08:04:50 +0000</td>\n",
       "      <td>Online Bidding Executive</td>\n",
       "      <td>Not Disclosed by Recruiter</td>\n",
       "      <td>2 - 5 yrs</td>\n",
       "      <td>pre sales| closing| software knowledge| client...</td>\n",
       "      <td>Retail Sales</td>\n",
       "      <td>Pune,Pune</td>\n",
       "      <td>Sales , Retail , Business Development</td>\n",
       "      <td>IT-Software, Software Services</td>\n",
       "      <td>Sales Executive/Officer</td>\n",
       "    </tr>\n",
       "    <tr>\n",
       "      <th>2</th>\n",
       "      <td>ffad8a2396c60be2bf6d0e2ff47c58d4</td>\n",
       "      <td>2019-08-05 15:50:44 +0000</td>\n",
       "      <td>Trainee Research/ Research Executive- Hi- Tech...</td>\n",
       "      <td>Not Disclosed by Recruiter</td>\n",
       "      <td>0 - 1 yrs</td>\n",
       "      <td>Computer science| Fabrication| Quality check| ...</td>\n",
       "      <td>R&amp;D</td>\n",
       "      <td>Gurgaon</td>\n",
       "      <td>Engineering Design , R&amp;D</td>\n",
       "      <td>Recruitment, Staffing</td>\n",
       "      <td>R&amp;D Executive</td>\n",
       "    </tr>\n",
       "    <tr>\n",
       "      <th>3</th>\n",
       "      <td>7b921f51b5c2fb862b4a5f7a54c37f75</td>\n",
       "      <td>2019-08-05 15:31:56 +0000</td>\n",
       "      <td>Technical Support</td>\n",
       "      <td>2,00,000 - 4,00,000 PA.</td>\n",
       "      <td>0 - 5 yrs</td>\n",
       "      <td>Technical Support</td>\n",
       "      <td>Admin/Maintenance/Security/Datawarehousing</td>\n",
       "      <td>Mumbai</td>\n",
       "      <td>IT Software - Application Programming , Mainte...</td>\n",
       "      <td>IT-Software, Software Services</td>\n",
       "      <td>Technical Support Engineer</td>\n",
       "    </tr>\n",
       "    <tr>\n",
       "      <th>4</th>\n",
       "      <td>2d8b7d44e138a54d5dc841163138de50</td>\n",
       "      <td>2019-07-05 02:48:29 +0000</td>\n",
       "      <td>Software Test Engineer -hyderabad</td>\n",
       "      <td>Not Disclosed by Recruiter</td>\n",
       "      <td>2 - 5 yrs</td>\n",
       "      <td>manual testing| test engineering| test cases| ...</td>\n",
       "      <td>Programming &amp; Design</td>\n",
       "      <td>Hyderabad</td>\n",
       "      <td>IT Software - QA &amp; Testing</td>\n",
       "      <td>IT-Software, Software Services</td>\n",
       "      <td>Testing Engineer</td>\n",
       "    </tr>\n",
       "  </tbody>\n",
       "</table>\n",
       "</div>"
      ],
      "text/plain": [
       "                            Uniq Id            Crawl Timestamp  \\\n",
       "0  9be62c49a0b7ebe982a4af1edaa7bc5f  2019-07-05 01:46:07 +0000   \n",
       "1  3c52d436e39f596b22519da2612f6a56  2019-07-06 08:04:50 +0000   \n",
       "2  ffad8a2396c60be2bf6d0e2ff47c58d4  2019-08-05 15:50:44 +0000   \n",
       "3  7b921f51b5c2fb862b4a5f7a54c37f75  2019-08-05 15:31:56 +0000   \n",
       "4  2d8b7d44e138a54d5dc841163138de50  2019-07-05 02:48:29 +0000   \n",
       "\n",
       "                                           Job Title  \\\n",
       "0                              Digital Media Planner   \n",
       "1                           Online Bidding Executive   \n",
       "2  Trainee Research/ Research Executive- Hi- Tech...   \n",
       "3                                  Technical Support   \n",
       "4                  Software Test Engineer -hyderabad   \n",
       "\n",
       "                   Job Salary Job Experience Required  \\\n",
       "0  Not Disclosed by Recruiter              5 - 10 yrs   \n",
       "1  Not Disclosed by Recruiter               2 - 5 yrs   \n",
       "2  Not Disclosed by Recruiter               0 - 1 yrs   \n",
       "3    2,00,000 - 4,00,000 PA.                0 - 5 yrs   \n",
       "4  Not Disclosed by Recruiter               2 - 5 yrs   \n",
       "\n",
       "                                          Key Skills  \\\n",
       "0                      Media Planning| Digital Media   \n",
       "1  pre sales| closing| software knowledge| client...   \n",
       "2  Computer science| Fabrication| Quality check| ...   \n",
       "3                                  Technical Support   \n",
       "4  manual testing| test engineering| test cases| ...   \n",
       "\n",
       "                                Role Category   Location  \\\n",
       "0                                 Advertising     Mumbai   \n",
       "1                                Retail Sales  Pune,Pune   \n",
       "2                                         R&D    Gurgaon   \n",
       "3  Admin/Maintenance/Security/Datawarehousing     Mumbai   \n",
       "4                        Programming & Design  Hyderabad   \n",
       "\n",
       "                                     Functional Area  \\\n",
       "0  Marketing , Advertising , MR , PR , Media Plan...   \n",
       "1              Sales , Retail , Business Development   \n",
       "2                           Engineering Design , R&D   \n",
       "3  IT Software - Application Programming , Mainte...   \n",
       "4                         IT Software - QA & Testing   \n",
       "\n",
       "                                Industry                              Role  \n",
       "0  Advertising, PR, MR, Event Management  Media Planning Executive/Manager  \n",
       "1         IT-Software, Software Services           Sales Executive/Officer  \n",
       "2                  Recruitment, Staffing                     R&D Executive  \n",
       "3         IT-Software, Software Services        Technical Support Engineer  \n",
       "4         IT-Software, Software Services                  Testing Engineer  "
      ]
     },
     "execution_count": 3,
     "metadata": {},
     "output_type": "execute_result"
    }
   ],
   "source": [
    "jobs=pd.read_csv('jobs_naukri_1.csv', error_bad_lines=False,sep=',')\n",
    "jobs.head()"
   ]
  },
  {
   "cell_type": "code",
   "execution_count": 4,
   "id": "95c43534",
   "metadata": {},
   "outputs": [
    {
     "data": {
      "text/plain": [
       "9"
      ]
     },
     "execution_count": 4,
     "metadata": {},
     "output_type": "execute_result"
    }
   ],
   "source": [
    "jobs.isnull().any().sum()"
   ]
  },
  {
   "cell_type": "code",
   "execution_count": 5,
   "id": "16af97f9",
   "metadata": {},
   "outputs": [
    {
     "data": {
      "text/plain": [
       "Role Category              2149\n",
       "Key Skills                 1243\n",
       "Role                        790\n",
       "Location                    473\n",
       "Job Title                   471\n",
       "Job Experience Required     469\n",
       "Functional Area             469\n",
       "Industry                    469\n",
       "Job Salary                   51\n",
       "Uniq Id                       0\n",
       "Crawl Timestamp               0\n",
       "dtype: int64"
      ]
     },
     "execution_count": 5,
     "metadata": {},
     "output_type": "execute_result"
    }
   ],
   "source": [
    "jobs.isnull().sum().sort_values(ascending=False)"
   ]
  },
  {
   "cell_type": "code",
   "execution_count": 6,
   "id": "a9b85b95",
   "metadata": {},
   "outputs": [
    {
     "data": {
      "text/plain": [
       "(29786, 11)"
      ]
     },
     "execution_count": 6,
     "metadata": {},
     "output_type": "execute_result"
    }
   ],
   "source": [
    "jobs.shape"
   ]
  },
  {
   "cell_type": "code",
   "execution_count": 7,
   "id": "701d5cdf",
   "metadata": {},
   "outputs": [
    {
     "data": {
      "text/plain": [
       "array([['9be62c49a0b7ebe982a4af1edaa7bc5f', '2019-07-05 01:46:07 +0000',\n",
       "        'Digital Media Planner', ...,\n",
       "        'Marketing , Advertising , MR , PR , Media Planning',\n",
       "        'Advertising, PR, MR, Event Management',\n",
       "        'Media Planning Executive/Manager'],\n",
       "       ['3c52d436e39f596b22519da2612f6a56', '2019-07-06 08:04:50 +0000',\n",
       "        'Online Bidding Executive', ...,\n",
       "        'Sales , Retail , Business Development',\n",
       "        'IT-Software, Software Services', 'Sales Executive/Officer'],\n",
       "       ['ffad8a2396c60be2bf6d0e2ff47c58d4', '2019-08-05 15:50:44 +0000',\n",
       "        'Trainee Research/ Research Executive- Hi- Tech Operations', ...,\n",
       "        'Engineering Design , R&D', 'Recruitment, Staffing',\n",
       "        'R&D Executive'],\n",
       "       ...,\n",
       "       ['43d5b806b26ed99d3ebfc8f366b4cdd1', '2019-08-05 09:41:29 +0000',\n",
       "        'Assoc. Prof.- CS', ...,\n",
       "        'Teaching , Education , Training , Counselling',\n",
       "        'Education, Teaching, Training', 'Lecturer/Professor'],\n",
       "       ['8bc87d14cf56564f16b6d4bae80180be', '2019-08-06 01:44:55 +0000',\n",
       "        'Application/Cyber Security Specialist-Pune', ...,\n",
       "        'IT Software - Application Programming , Maintenance',\n",
       "        'IT-Software, Software Services', 'Software Developer'],\n",
       "       ['9c7045d111814a6f39fe461eab2b0bf8', '2019-07-06 22:24:55 +0000',\n",
       "        'Press Release Writer - SEO', ...,\n",
       "        'Marketing , Advertising , MR , PR , Media Planning',\n",
       "        'IT-Software, Software Services',\n",
       "        'Search Engine Optimisation /SEO Specialist']], dtype=object)"
      ]
     },
     "execution_count": 7,
     "metadata": {},
     "output_type": "execute_result"
    }
   ],
   "source": [
    "jobs.values"
   ]
  },
  {
   "cell_type": "code",
   "execution_count": 8,
   "id": "0673d5c4",
   "metadata": {},
   "outputs": [
    {
     "data": {
      "text/plain": [
       "Index(['Uniq Id', 'Crawl Timestamp', 'Job Title', 'Job Salary',\n",
       "       'Job Experience Required', 'Key Skills', 'Role Category', 'Location',\n",
       "       'Functional Area', 'Industry', 'Role'],\n",
       "      dtype='object')"
      ]
     },
     "execution_count": 8,
     "metadata": {},
     "output_type": "execute_result"
    }
   ],
   "source": [
    "jobs.columns"
   ]
  },
  {
   "cell_type": "code",
   "execution_count": 10,
   "id": "f1a6f9cb",
   "metadata": {},
   "outputs": [
    {
     "name": "stdout",
     "output_type": "stream",
     "text": [
      "<class 'pandas.core.frame.DataFrame'>\n",
      "RangeIndex: 29786 entries, 0 to 29785\n",
      "Data columns (total 11 columns):\n",
      " #   Column                   Non-Null Count  Dtype \n",
      "---  ------                   --------------  ----- \n",
      " 0   Uniq Id                  29786 non-null  object\n",
      " 1   Crawl Timestamp          29786 non-null  object\n",
      " 2   Job Title                29315 non-null  object\n",
      " 3   Job Salary               29735 non-null  object\n",
      " 4   Job Experience Required  29317 non-null  object\n",
      " 5   Key Skills               28543 non-null  object\n",
      " 6   Role Category            27637 non-null  object\n",
      " 7   Location                 29313 non-null  object\n",
      " 8   Functional Area          29317 non-null  object\n",
      " 9   Industry                 29317 non-null  object\n",
      " 10  Role                     28996 non-null  object\n",
      "dtypes: object(11)\n",
      "memory usage: 2.5+ MB\n"
     ]
    }
   ],
   "source": [
    "jobs.info()"
   ]
  },
  {
   "cell_type": "code",
   "execution_count": 11,
   "id": "71a70f2c",
   "metadata": {},
   "outputs": [
    {
     "data": {
      "text/plain": [
       "0                                       Advertising\n",
       "1                                      Retail Sales\n",
       "2                                               R&D\n",
       "3        Admin/Maintenance/Security/Datawarehousing\n",
       "4                              Programming & Design\n",
       "                            ...                    \n",
       "29781                          Programming & Design\n",
       "29782                                    Operations\n",
       "29783                              University Level\n",
       "29784                          Programming & Design\n",
       "29785                      Online/Digital Marketing\n",
       "Name: Role Category, Length: 29786, dtype: object"
      ]
     },
     "execution_count": 11,
     "metadata": {},
     "output_type": "execute_result"
    }
   ],
   "source": [
    "jobs['Role Category']"
   ]
  },
  {
   "cell_type": "code",
   "execution_count": 12,
   "id": "72532f2f",
   "metadata": {},
   "outputs": [
    {
     "name": "stdout",
     "output_type": "stream",
     "text": [
      "Feature 'Uniq Id' has '29786'uniques categories\n",
      "Feature 'Crawl Timestamp' has '28670'uniques categories\n",
      "Feature 'Job Title' has '23587'uniques categories\n",
      "Feature 'Job Salary' has '1225'uniques categories\n",
      "Feature 'Job Experience Required' has '255'uniques categories\n",
      "Feature 'Key Skills' has '26730'uniques categories\n",
      "Feature 'Role Category' has '181'uniques categories\n",
      "Feature 'Location' has '2558'uniques categories\n",
      "Feature 'Functional Area' has '65'uniques categories\n",
      "Feature 'Industry' has '115'uniques categories\n",
      "Feature 'Role' has '624'uniques categories\n"
     ]
    }
   ],
   "source": [
    "for col_name in jobs.columns:\n",
    "    if jobs[col_name].dtypes=='object':\n",
    "        unique_cat=len(jobs[col_name].unique())\n",
    "        print(\"Feature '{col_name}' has '{unique_cat}'uniques categories\".format(col_name=col_name,unique_cat=unique_cat))"
   ]
  },
  {
   "cell_type": "code",
   "execution_count": 13,
   "id": "7cd36979",
   "metadata": {},
   "outputs": [
    {
     "name": "stdout",
     "output_type": "stream",
     "text": [
      "Programming & Design                                                                                                                                                                                                                                                                                                                                                                                                                                                                                                                                                                                                                                                                                                                                                                                                                                                                                                                                                                                                                                                                                                                                                                             8549\n",
      "Voice                                                                                                                                                                                                                                                                                                                                                                                                                                                                                                                                                                                                                                                                                                                                                                                                                                                                                                                                                                                                                                                                                                                                                                                            2385\n",
      "Retail Sales                                                                                                                                                                                                                                                                                                                                                                                                                                                                                                                                                                                                                                                                                                                                                                                                                                                                                                                                                                                                                                                                                                                                                                                     2359\n",
      "HR/ Recruitment / IR                                                                                                                                                                                                                                                                                                                                                                                                                                                                                                                                                                                                                                                                                                                                                                                                                                                                                                                                                                                                                                                                                                                                                                             1133\n",
      "Admin/Maintenance/Security/Datawarehousing                                                                                                                                                                                                                                                                                                                                                                                                                                                                                                                                                                                                                                                                                                                                                                                                                                                                                                                                                                                                                                                                                                                                                        924\n",
      "                                                                                                                                                                                                                                                                                                                                                                                                                                                                                                                                                                                                                                                                                                                                                                                                                                                                                                                                                                                                                                                                                                                                                                                                 ... \n",
      "\" Deeper understanding of Transfer Pricing as a concept and provisions of TP law (definition of AE, methods etc.) in India. Basic understanding of other direct tax concepts and other allied laws. Good communication skills oral as well as written knowing business English is very important. Understanding of the clients business and the issues involved. Personal ownership for own work and performance Ability to understand the issues and discuss the same with senior colleagues in a proper way To keep updated with case laws and assist senior colleagues in application of the ratio of the judgements in the assignments handled Personal ownership (responsibility and accountability) for the work and performance Ability to learn new skills, share knowledge and experience To support senior colleague in the assignments in a fruitful manner To ensure that the risk and other policies are being adhered to \" Experience is TP is mandatory. Interested candidates can share their resume on reetisingh@gmail.com or can call at 8355949358. Salary: INR 6,00,000 - 9,00,000 PA. Industry: Other Functional Area: Other Employment Type: Permanent Job, Full Time        1\n",
      "Laurus Labs Ltd is a fast growing pharmaceutical company. About Company: https://www.lauruslabs.com/                                                                                                                                                                                                                                                                                                                                                                                                                                                                                                                                                                                                                                                                                                                                                                                                                                                                                                                                                                                                                                                                                                1\n",
      "Solugenix is an information technology services firm that has a rich history of providing comprehensive technology services and solutions for more than four decades. As a pioneer in IT services, we've partnered with some of the biggest global corporations across many industries. Our history was built on a foundation of partnerships with global brands like McDonald's, Microsoft, CIT Group, Johnson & Johnson, Herbalife, Sony Pictures Entertainment, and many others. Whether it's providing dedicated support centres, staffing quality teams, or delivering business service solutions, clients can always count on Solugenix.                                                                                                                                                                                                                                                                                                                                                                                                                                                                                                                                                      1\n",
      "A leading food & hospitality industry                                                                                                                                                                                                                                                                                                                                                                                                                                                                                                                                                                                                                                                                                                                                                                                                                                                                                                                                                                                                                                                                                                                                                               1\n",
      "M/s. Hetero Drugs Ltd is one of the Largest Pharmaceutical Company in India.                                                                                                                                                                                                                                                                                                                                                                                                                                                                                                                                                                                                                                                                                                                                                                                                                                                                                                                                                                                                                                                                                                                        1\n",
      "Name: Role Category, Length: 180, dtype: int64\n"
     ]
    }
   ],
   "source": [
    "print(jobs['Role Category'].value_counts())"
   ]
  },
  {
   "cell_type": "code",
   "execution_count": 24,
   "id": "b827519d",
   "metadata": {},
   "outputs": [],
   "source": [
    "jobs_enhanced=jobs['Role Category'].value_counts()>=20"
   ]
  },
  {
   "cell_type": "code",
   "execution_count": 25,
   "id": "fce1308e",
   "metadata": {},
   "outputs": [
    {
     "data": {
      "text/plain": [
       "Programming & Design                          True\n",
       "Voice                                         True\n",
       "Retail Sales                                  True\n",
       "HR/ Recruitment / IR                          True\n",
       "Admin/Maintenance/Security/Datawarehousing    True\n",
       "Name: Role Category, dtype: bool"
      ]
     },
     "execution_count": 25,
     "metadata": {},
     "output_type": "execute_result"
    }
   ],
   "source": [
    "jobs_enhanced.head()"
   ]
  },
  {
   "cell_type": "code",
   "execution_count": 26,
   "id": "0f5e366f",
   "metadata": {},
   "outputs": [
    {
     "data": {
      "text/plain": [
       "(55,)"
      ]
     },
     "execution_count": 26,
     "metadata": {},
     "output_type": "execute_result"
    }
   ],
   "source": [
    "jobs_enhanced[jobs_enhanced].shape"
   ]
  },
  {
   "cell_type": "code",
   "execution_count": 27,
   "id": "2e5bcc8b",
   "metadata": {},
   "outputs": [],
   "source": [
    "roles=jobs_enhanced[jobs_enhanced].index"
   ]
  },
  {
   "cell_type": "code",
   "execution_count": 28,
   "id": "f2403bbf",
   "metadata": {},
   "outputs": [
    {
     "data": {
      "text/plain": [
       "Index(['Programming & Design', 'Voice', 'Retail Sales', 'HR/ Recruitment / IR',\n",
       "       'Admin/Maintenance/Security/Datawarehousing', 'Accounts',\n",
       "       'Senior Management', 'Other', 'Corporate Sales',\n",
       "       'Production/Manufacturing/Maintenance',\n",
       "       'System Design/Implementation/ERP/CRM', 'Marketing',\n",
       "       'Medical Professional', 'Creative', 'Engineering Design',\n",
       "       'Finance/Audit', 'Teachers', 'Project Management', 'University Level',\n",
       "       'Back Office/Web/Transaction Processing', 'Institutional Sales',\n",
       "       'Site Engineering', 'Retail/Personal Banking', 'Channel Sales',\n",
       "       'Analytics & BI', 'R&D', 'Content Development',\n",
       "       'Purchase/Material Management', 'Operations', 'Food & Beverage',\n",
       "       'Administration/Facility Management', 'Sales Support', 'Logistics',\n",
       "       'Advertising', 'Online/Digital Marketing',\n",
       "       'Corporate Planning/Consulting/Strategy', 'QA/Testing/Documentation',\n",
       "       'Ticketing/Travel/Documentation', 'Technical Support',\n",
       "       'Operations/Processes/Finance/Legal',\n",
       "       'Life Insurance/Financial Services', 'Quality', 'Corporate Banking',\n",
       "       'Architectural Services', 'IT Hardware', 'Designer',\n",
       "       'Financial Services/Stock Broking', 'Front Office/Customer Care',\n",
       "       'Drug Regulatory Affairs/Documentation', 'Marketing Research',\n",
       "       'Investment Banking', 'Documentation/Shipping', 'Training',\n",
       "       'Interior Design', 'Mutual Funds/Fund Management/Asset Management'],\n",
       "      dtype='object')"
      ]
     },
     "execution_count": 28,
     "metadata": {},
     "output_type": "execute_result"
    }
   ],
   "source": [
    "roles"
   ]
  },
  {
   "cell_type": "code",
   "execution_count": 29,
   "id": "663e8942",
   "metadata": {},
   "outputs": [],
   "source": [
    "jobs=jobs[jobs['Role Category'].isin(roles)]"
   ]
  },
  {
   "cell_type": "code",
   "execution_count": 30,
   "id": "8f9610d1",
   "metadata": {},
   "outputs": [
    {
     "data": {
      "text/html": [
       "<div>\n",
       "<style scoped>\n",
       "    .dataframe tbody tr th:only-of-type {\n",
       "        vertical-align: middle;\n",
       "    }\n",
       "\n",
       "    .dataframe tbody tr th {\n",
       "        vertical-align: top;\n",
       "    }\n",
       "\n",
       "    .dataframe thead th {\n",
       "        text-align: right;\n",
       "    }\n",
       "</style>\n",
       "<table border=\"1\" class=\"dataframe\">\n",
       "  <thead>\n",
       "    <tr style=\"text-align: right;\">\n",
       "      <th></th>\n",
       "      <th>Uniq Id</th>\n",
       "      <th>Crawl Timestamp</th>\n",
       "      <th>Job Title</th>\n",
       "      <th>Job Salary</th>\n",
       "      <th>Job Experience Required</th>\n",
       "      <th>Key Skills</th>\n",
       "      <th>Role Category</th>\n",
       "      <th>Location</th>\n",
       "      <th>Functional Area</th>\n",
       "      <th>Industry</th>\n",
       "      <th>Role</th>\n",
       "    </tr>\n",
       "  </thead>\n",
       "  <tbody>\n",
       "    <tr>\n",
       "      <th>0</th>\n",
       "      <td>9be62c49a0b7ebe982a4af1edaa7bc5f</td>\n",
       "      <td>2019-07-05 01:46:07 +0000</td>\n",
       "      <td>Digital Media Planner</td>\n",
       "      <td>Not Disclosed by Recruiter</td>\n",
       "      <td>5 - 10 yrs</td>\n",
       "      <td>Media Planning| Digital Media</td>\n",
       "      <td>Advertising</td>\n",
       "      <td>Mumbai</td>\n",
       "      <td>Marketing , Advertising , MR , PR , Media Plan...</td>\n",
       "      <td>Advertising, PR, MR, Event Management</td>\n",
       "      <td>Media Planning Executive/Manager</td>\n",
       "    </tr>\n",
       "    <tr>\n",
       "      <th>1</th>\n",
       "      <td>3c52d436e39f596b22519da2612f6a56</td>\n",
       "      <td>2019-07-06 08:04:50 +0000</td>\n",
       "      <td>Online Bidding Executive</td>\n",
       "      <td>Not Disclosed by Recruiter</td>\n",
       "      <td>2 - 5 yrs</td>\n",
       "      <td>pre sales| closing| software knowledge| client...</td>\n",
       "      <td>Retail Sales</td>\n",
       "      <td>Pune,Pune</td>\n",
       "      <td>Sales , Retail , Business Development</td>\n",
       "      <td>IT-Software, Software Services</td>\n",
       "      <td>Sales Executive/Officer</td>\n",
       "    </tr>\n",
       "    <tr>\n",
       "      <th>2</th>\n",
       "      <td>ffad8a2396c60be2bf6d0e2ff47c58d4</td>\n",
       "      <td>2019-08-05 15:50:44 +0000</td>\n",
       "      <td>Trainee Research/ Research Executive- Hi- Tech...</td>\n",
       "      <td>Not Disclosed by Recruiter</td>\n",
       "      <td>0 - 1 yrs</td>\n",
       "      <td>Computer science| Fabrication| Quality check| ...</td>\n",
       "      <td>R&amp;D</td>\n",
       "      <td>Gurgaon</td>\n",
       "      <td>Engineering Design , R&amp;D</td>\n",
       "      <td>Recruitment, Staffing</td>\n",
       "      <td>R&amp;D Executive</td>\n",
       "    </tr>\n",
       "    <tr>\n",
       "      <th>3</th>\n",
       "      <td>7b921f51b5c2fb862b4a5f7a54c37f75</td>\n",
       "      <td>2019-08-05 15:31:56 +0000</td>\n",
       "      <td>Technical Support</td>\n",
       "      <td>2,00,000 - 4,00,000 PA.</td>\n",
       "      <td>0 - 5 yrs</td>\n",
       "      <td>Technical Support</td>\n",
       "      <td>Admin/Maintenance/Security/Datawarehousing</td>\n",
       "      <td>Mumbai</td>\n",
       "      <td>IT Software - Application Programming , Mainte...</td>\n",
       "      <td>IT-Software, Software Services</td>\n",
       "      <td>Technical Support Engineer</td>\n",
       "    </tr>\n",
       "    <tr>\n",
       "      <th>4</th>\n",
       "      <td>2d8b7d44e138a54d5dc841163138de50</td>\n",
       "      <td>2019-07-05 02:48:29 +0000</td>\n",
       "      <td>Software Test Engineer -hyderabad</td>\n",
       "      <td>Not Disclosed by Recruiter</td>\n",
       "      <td>2 - 5 yrs</td>\n",
       "      <td>manual testing| test engineering| test cases| ...</td>\n",
       "      <td>Programming &amp; Design</td>\n",
       "      <td>Hyderabad</td>\n",
       "      <td>IT Software - QA &amp; Testing</td>\n",
       "      <td>IT-Software, Software Services</td>\n",
       "      <td>Testing Engineer</td>\n",
       "    </tr>\n",
       "  </tbody>\n",
       "</table>\n",
       "</div>"
      ],
      "text/plain": [
       "                            Uniq Id            Crawl Timestamp  \\\n",
       "0  9be62c49a0b7ebe982a4af1edaa7bc5f  2019-07-05 01:46:07 +0000   \n",
       "1  3c52d436e39f596b22519da2612f6a56  2019-07-06 08:04:50 +0000   \n",
       "2  ffad8a2396c60be2bf6d0e2ff47c58d4  2019-08-05 15:50:44 +0000   \n",
       "3  7b921f51b5c2fb862b4a5f7a54c37f75  2019-08-05 15:31:56 +0000   \n",
       "4  2d8b7d44e138a54d5dc841163138de50  2019-07-05 02:48:29 +0000   \n",
       "\n",
       "                                           Job Title  \\\n",
       "0                              Digital Media Planner   \n",
       "1                           Online Bidding Executive   \n",
       "2  Trainee Research/ Research Executive- Hi- Tech...   \n",
       "3                                  Technical Support   \n",
       "4                  Software Test Engineer -hyderabad   \n",
       "\n",
       "                   Job Salary Job Experience Required  \\\n",
       "0  Not Disclosed by Recruiter              5 - 10 yrs   \n",
       "1  Not Disclosed by Recruiter               2 - 5 yrs   \n",
       "2  Not Disclosed by Recruiter               0 - 1 yrs   \n",
       "3    2,00,000 - 4,00,000 PA.                0 - 5 yrs   \n",
       "4  Not Disclosed by Recruiter               2 - 5 yrs   \n",
       "\n",
       "                                          Key Skills  \\\n",
       "0                      Media Planning| Digital Media   \n",
       "1  pre sales| closing| software knowledge| client...   \n",
       "2  Computer science| Fabrication| Quality check| ...   \n",
       "3                                  Technical Support   \n",
       "4  manual testing| test engineering| test cases| ...   \n",
       "\n",
       "                                Role Category   Location  \\\n",
       "0                                 Advertising     Mumbai   \n",
       "1                                Retail Sales  Pune,Pune   \n",
       "2                                         R&D    Gurgaon   \n",
       "3  Admin/Maintenance/Security/Datawarehousing     Mumbai   \n",
       "4                        Programming & Design  Hyderabad   \n",
       "\n",
       "                                     Functional Area  \\\n",
       "0  Marketing , Advertising , MR , PR , Media Plan...   \n",
       "1              Sales , Retail , Business Development   \n",
       "2                           Engineering Design , R&D   \n",
       "3  IT Software - Application Programming , Mainte...   \n",
       "4                         IT Software - QA & Testing   \n",
       "\n",
       "                                Industry                              Role  \n",
       "0  Advertising, PR, MR, Event Management  Media Planning Executive/Manager  \n",
       "1         IT-Software, Software Services           Sales Executive/Officer  \n",
       "2                  Recruitment, Staffing                     R&D Executive  \n",
       "3         IT-Software, Software Services        Technical Support Engineer  \n",
       "4         IT-Software, Software Services                  Testing Engineer  "
      ]
     },
     "execution_count": 30,
     "metadata": {},
     "output_type": "execute_result"
    }
   ],
   "source": [
    "jobs.head()"
   ]
  },
  {
   "cell_type": "code",
   "execution_count": 33,
   "id": "9d5eb3b4",
   "metadata": {},
   "outputs": [
    {
     "data": {
      "text/plain": [
       "(27108, 11)"
      ]
     },
     "execution_count": 33,
     "metadata": {},
     "output_type": "execute_result"
    }
   ],
   "source": [
    "jobs.shape"
   ]
  },
  {
   "cell_type": "code",
   "execution_count": 34,
   "id": "4a79dce0",
   "metadata": {},
   "outputs": [
    {
     "name": "stdout",
     "output_type": "stream",
     "text": [
      "Programming & Design                             8549\n",
      "Voice                                            2385\n",
      "Retail Sales                                     2359\n",
      "HR/ Recruitment / IR                             1133\n",
      "Admin/Maintenance/Security/Datawarehousing        924\n",
      "Accounts                                          881\n",
      "Senior Management                                 878\n",
      "Other                                             865\n",
      "Corporate Sales                                   703\n",
      "Production/Manufacturing/Maintenance              591\n",
      "System Design/Implementation/ERP/CRM              501\n",
      "Marketing                                         486\n",
      "Medical Professional                              437\n",
      "Creative                                          396\n",
      "Engineering Design                                368\n",
      "Finance/Audit                                     339\n",
      "Teachers                                          329\n",
      "Project Management                                310\n",
      "University Level                                  305\n",
      "Back Office/Web/Transaction Processing            293\n",
      "Institutional Sales                               285\n",
      "Site Engineering                                  250\n",
      "Retail/Personal Banking                           247\n",
      "Channel Sales                                     245\n",
      "Analytics & BI                                    215\n",
      "R&D                                               208\n",
      "Content Development                               206\n",
      "Purchase/Material Management                      168\n",
      "Operations                                        157\n",
      "Food & Beverage                                   146\n",
      "Administration/Facility Management                142\n",
      "Sales Support                                     142\n",
      "Logistics                                         138\n",
      "Advertising                                       129\n",
      "Online/Digital Marketing                          121\n",
      "Corporate Planning/Consulting/Strategy            118\n",
      "QA/Testing/Documentation                          110\n",
      "Ticketing/Travel/Documentation                    108\n",
      "Technical Support                                  95\n",
      "Operations/Processes/Finance/Legal                 88\n",
      "Life Insurance/Financial Services                  85\n",
      "Quality                                            63\n",
      "Corporate Banking                                  62\n",
      "Architectural Services                             62\n",
      "IT Hardware                                        56\n",
      "Designer                                           52\n",
      "Financial Services/Stock Broking                   49\n",
      "Front Office/Customer Care                         48\n",
      "Drug Regulatory Affairs/Documentation              46\n",
      "Marketing Research                                 45\n",
      "Investment Banking                                 43\n",
      "Documentation/Shipping                             41\n",
      "Training                                           39\n",
      "Interior Design                                    37\n",
      "Mutual Funds/Fund Management/Asset Management      30\n",
      "Name: Role Category, dtype: int64\n"
     ]
    }
   ],
   "source": [
    "print(jobs['Role Category'].value_counts())"
   ]
  },
  {
   "cell_type": "code",
   "execution_count": 35,
   "id": "ffec3a16",
   "metadata": {},
   "outputs": [],
   "source": [
    "roles_enhanced=jobs['Industry'].value_counts()>=20"
   ]
  },
  {
   "cell_type": "code",
   "execution_count": 36,
   "id": "82658b14",
   "metadata": {},
   "outputs": [
    {
     "data": {
      "text/plain": [
       "IT-Software, Software Services           True\n",
       "Recruitment, Staffing                    True\n",
       "BPO, Call Centre, ITeS                   True\n",
       "Banking, Financial Services, Broking     True\n",
       "Education, Teaching, Training            True\n",
       "                                        ...  \n",
       "Mining / Quarrying                      False\n",
       "Heat Ventilation / Air Conditioning     False\n",
       "Architecture / Interior Design          False\n",
       "Export / Import                         False\n",
       "Glass / Glassware                       False\n",
       "Name: Industry, Length: 100, dtype: bool"
      ]
     },
     "execution_count": 36,
     "metadata": {},
     "output_type": "execute_result"
    }
   ],
   "source": [
    "roles_enhanced"
   ]
  },
  {
   "cell_type": "code",
   "execution_count": 37,
   "id": "231b3bda",
   "metadata": {},
   "outputs": [
    {
     "data": {
      "text/plain": [
       "(63,)"
      ]
     },
     "execution_count": 37,
     "metadata": {},
     "output_type": "execute_result"
    }
   ],
   "source": [
    "roles_enhanced[roles_enhanced].shape"
   ]
  },
  {
   "cell_type": "code",
   "execution_count": 38,
   "id": "482120de",
   "metadata": {},
   "outputs": [],
   "source": [
    "industry=roles_enhanced[roles_enhanced].index"
   ]
  },
  {
   "cell_type": "code",
   "execution_count": 39,
   "id": "0980d9cb",
   "metadata": {},
   "outputs": [
    {
     "name": "stdout",
     "output_type": "stream",
     "text": [
      "   Accounting / Finance  Accounting, Finance  \\\n",
      "0                     0                    0   \n",
      "1                     0                    0   \n",
      "2                     0                    0   \n",
      "3                     0                    0   \n",
      "4                     0                    0   \n",
      "\n",
      "   Advertising / PR / MR / Event Management  \\\n",
      "0                                         0   \n",
      "1                                         0   \n",
      "2                                         0   \n",
      "3                                         0   \n",
      "4                                         0   \n",
      "\n",
      "   Advertising, PR, MR, Event Management  Agriculture / Dairy  \\\n",
      "0                                      1                    0   \n",
      "1                                      0                    0   \n",
      "2                                      0                    0   \n",
      "3                                      0                    0   \n",
      "4                                      0                    0   \n",
      "\n",
      "   Agriculture, Dairy  Animation, Gaming  Architecture / Interior Design  \\\n",
      "0                   0                  0                               0   \n",
      "1                   0                  0                               0   \n",
      "2                   0                  0                               0   \n",
      "3                   0                  0                               0   \n",
      "4                   0                  0                               0   \n",
      "\n",
      "   Architecture, Interior Design  \\\n",
      "0                              0   \n",
      "1                              0   \n",
      "2                              0   \n",
      "3                              0   \n",
      "4                              0   \n",
      "\n",
      "   Automobile / Auto Anciliary / Auto Components  ...  Sugar  Telcom, ISP  \\\n",
      "0                                              0  ...      0            0   \n",
      "1                                              0  ...      0            0   \n",
      "2                                              0  ...      0            0   \n",
      "3                                              0  ...      0            0   \n",
      "4                                              0  ...      0            0   \n",
      "\n",
      "   Telecom / ISP  Textiles / Garments / Accessories  \\\n",
      "0              0                                  0   \n",
      "1              0                                  0   \n",
      "2              0                                  0   \n",
      "3              0                                  0   \n",
      "4              0                                  0   \n",
      "\n",
      "   Textiles, Garments, Accessories  \\\n",
      "0                                0   \n",
      "1                                0   \n",
      "2                                0   \n",
      "3                                0   \n",
      "4                                0   \n",
      "\n",
      "   Travel , Hotels , Restaurants , Airlines , Railways  \\\n",
      "0                                                  0     \n",
      "1                                                  0     \n",
      "2                                                  0     \n",
      "3                                                  0     \n",
      "4                                                  0     \n",
      "\n",
      "   Travel / Hotels / Restaurants / Airlines / Railways  Tyres  \\\n",
      "0                                                  0        0   \n",
      "1                                                  0        0   \n",
      "2                                                  0        0   \n",
      "3                                                  0        0   \n",
      "4                                                  0        0   \n",
      "\n",
      "   Water Treatment, Waste Management  Wellness , Fitness , Sports, Beauty  \n",
      "0                                  0                                    0  \n",
      "1                                  0                                    0  \n",
      "2                                  0                                    0  \n",
      "3                                  0                                    0  \n",
      "4                                  0                                    0  \n",
      "\n",
      "[5 rows x 100 columns]\n"
     ]
    }
   ],
   "source": [
    "print(pd.get_dummies(jobs['Industry']).head(5))"
   ]
  },
  {
   "cell_type": "code",
   "execution_count": 40,
   "id": "87bafb14",
   "metadata": {},
   "outputs": [
    {
     "data": {
      "text/plain": [
       "Index(['IT-Software, Software Services', 'Recruitment, Staffing',\n",
       "       'BPO, Call Centre, ITeS', 'Banking, Financial Services, Broking',\n",
       "       'Education, Teaching, Training', 'IT-Software / Software Services',\n",
       "       'Medical, Healthcare, Hospitals', 'Internet, Ecommerce',\n",
       "       'Strategy, Management Consulting Firms',\n",
       "       'Construction, Engineering, Cement, Metals',\n",
       "       'Automobile, Auto Anciliary, Auto Components',\n",
       "       'Travel , Hotels , Restaurants , Airlines , Railways',\n",
       "       'Pharma, Biotech, Clinical Research',\n",
       "       'Industrial Products, Heavy Machinery',\n",
       "       'Media, Entertainment, Internet',\n",
       "       'Advertising, PR, MR, Event Management', 'Real Estate, Property',\n",
       "       'Insurance', 'Accounting, Finance', 'Retail, Wholesale',\n",
       "       'FMCG, Foods, Beverage', 'Telcom, ISP',\n",
       "       'Oil and Gas, Energy, Power, Infrastructure',\n",
       "       'IT-Hardware & Networking', 'KPO, Research, Analytics', 'Other',\n",
       "       'Semiconductors, Electronics',\n",
       "       'Courier, Transportation, Freight , Warehousing',\n",
       "       'BPO / Call Centre / ITES', 'Chemicals, PetroChemical, Plastic, Rubber',\n",
       "       'Consumer Electronics, Appliances, Durables',\n",
       "       'Architecture, Interior Design', 'Electricals, Switchgears',\n",
       "       'Textiles, Garments, Accessories',\n",
       "       'Banking / Financial Services / Broking',\n",
       "       'NGO, Social Services, Regulators, Industry Associations',\n",
       "       'Pharma / Biotech / Clinical Research', 'Printing, Packaging',\n",
       "       'Publishing', 'Agriculture, Dairy', 'Accounting / Finance',\n",
       "       'Wellness , Fitness , Sports, Beauty', 'Export, Import',\n",
       "       'Aviation, Aerospace, Aeronautical', 'Office Equipment, Automation',\n",
       "       'Telecom / ISP', 'Water Treatment, Waste Management',\n",
       "       'Facility Management', 'Iron and Steel', 'Animation, Gaming',\n",
       "       'Heat Ventilation, Air Conditioning', 'Internet / Ecommerce',\n",
       "       'Gems, Jewellery', 'Semiconductors / Electronics',\n",
       "       'Ceramics, Sanitary ware', 'Shipping, Marine',\n",
       "       'Medical Devices / Equipments', 'Security, Law Enforcement',\n",
       "       'Travel / Hotels / Restaurants / Airlines / Railways',\n",
       "       'Recruitment / Staffing', 'Food Processing', 'Legal',\n",
       "       'Education / Teaching / Training'],\n",
       "      dtype='object')"
      ]
     },
     "execution_count": 40,
     "metadata": {},
     "output_type": "execute_result"
    }
   ],
   "source": [
    "industry"
   ]
  },
  {
   "cell_type": "code",
   "execution_count": 41,
   "id": "b6e4c418",
   "metadata": {},
   "outputs": [],
   "source": [
    "jobs=jobs[jobs['Industry'].isin(industry)]"
   ]
  },
  {
   "cell_type": "code",
   "execution_count": 42,
   "id": "17ffb16c",
   "metadata": {},
   "outputs": [
    {
     "data": {
      "text/plain": [
       "(26846, 11)"
      ]
     },
     "execution_count": 42,
     "metadata": {},
     "output_type": "execute_result"
    }
   ],
   "source": [
    "jobs.shape"
   ]
  },
  {
   "cell_type": "code",
   "execution_count": 43,
   "id": "1fe409b5",
   "metadata": {},
   "outputs": [
    {
     "name": "stdout",
     "output_type": "stream",
     "text": [
      "IT-Software, Software Services          9784\n",
      "Recruitment, Staffing                   2627\n",
      "BPO, Call Centre, ITeS                  1707\n",
      "Banking, Financial Services, Broking    1545\n",
      "Education, Teaching, Training           1036\n",
      "                                        ... \n",
      "Security, Law Enforcement                 23\n",
      "Recruitment / Staffing                    22\n",
      "Food Processing                           22\n",
      "Education / Teaching / Training           20\n",
      "Legal                                     20\n",
      "Name: Industry, Length: 63, dtype: int64\n"
     ]
    }
   ],
   "source": [
    "print(jobs['Industry'].value_counts())"
   ]
  },
  {
   "cell_type": "code",
   "execution_count": 44,
   "id": "fcecdbf7",
   "metadata": {},
   "outputs": [
    {
     "data": {
      "text/html": [
       "<div>\n",
       "<style scoped>\n",
       "    .dataframe tbody tr th:only-of-type {\n",
       "        vertical-align: middle;\n",
       "    }\n",
       "\n",
       "    .dataframe tbody tr th {\n",
       "        vertical-align: top;\n",
       "    }\n",
       "\n",
       "    .dataframe thead th {\n",
       "        text-align: right;\n",
       "    }\n",
       "</style>\n",
       "<table border=\"1\" class=\"dataframe\">\n",
       "  <thead>\n",
       "    <tr style=\"text-align: right;\">\n",
       "      <th></th>\n",
       "      <th>Uniq Id</th>\n",
       "      <th>Crawl Timestamp</th>\n",
       "      <th>Job Title</th>\n",
       "      <th>Job Salary</th>\n",
       "      <th>Job Experience Required</th>\n",
       "      <th>Key Skills</th>\n",
       "      <th>Role Category</th>\n",
       "      <th>Location</th>\n",
       "      <th>Functional Area</th>\n",
       "      <th>Industry</th>\n",
       "      <th>Role</th>\n",
       "    </tr>\n",
       "  </thead>\n",
       "  <tbody>\n",
       "    <tr>\n",
       "      <th>0</th>\n",
       "      <td>9be62c49a0b7ebe982a4af1edaa7bc5f</td>\n",
       "      <td>2019-07-05 01:46:07 +0000</td>\n",
       "      <td>Digital Media Planner</td>\n",
       "      <td>Not Disclosed by Recruiter</td>\n",
       "      <td>5 - 10 yrs</td>\n",
       "      <td>Media Planning| Digital Media</td>\n",
       "      <td>Advertising</td>\n",
       "      <td>Mumbai</td>\n",
       "      <td>Marketing , Advertising , MR , PR , Media Plan...</td>\n",
       "      <td>Advertising, PR, MR, Event Management</td>\n",
       "      <td>Media Planning Executive/Manager</td>\n",
       "    </tr>\n",
       "    <tr>\n",
       "      <th>1</th>\n",
       "      <td>3c52d436e39f596b22519da2612f6a56</td>\n",
       "      <td>2019-07-06 08:04:50 +0000</td>\n",
       "      <td>Online Bidding Executive</td>\n",
       "      <td>Not Disclosed by Recruiter</td>\n",
       "      <td>2 - 5 yrs</td>\n",
       "      <td>pre sales| closing| software knowledge| client...</td>\n",
       "      <td>Retail Sales</td>\n",
       "      <td>Pune,Pune</td>\n",
       "      <td>Sales , Retail , Business Development</td>\n",
       "      <td>IT-Software, Software Services</td>\n",
       "      <td>Sales Executive/Officer</td>\n",
       "    </tr>\n",
       "    <tr>\n",
       "      <th>2</th>\n",
       "      <td>ffad8a2396c60be2bf6d0e2ff47c58d4</td>\n",
       "      <td>2019-08-05 15:50:44 +0000</td>\n",
       "      <td>Trainee Research/ Research Executive- Hi- Tech...</td>\n",
       "      <td>Not Disclosed by Recruiter</td>\n",
       "      <td>0 - 1 yrs</td>\n",
       "      <td>Computer science| Fabrication| Quality check| ...</td>\n",
       "      <td>R&amp;D</td>\n",
       "      <td>Gurgaon</td>\n",
       "      <td>Engineering Design , R&amp;D</td>\n",
       "      <td>Recruitment, Staffing</td>\n",
       "      <td>R&amp;D Executive</td>\n",
       "    </tr>\n",
       "    <tr>\n",
       "      <th>3</th>\n",
       "      <td>7b921f51b5c2fb862b4a5f7a54c37f75</td>\n",
       "      <td>2019-08-05 15:31:56 +0000</td>\n",
       "      <td>Technical Support</td>\n",
       "      <td>2,00,000 - 4,00,000 PA.</td>\n",
       "      <td>0 - 5 yrs</td>\n",
       "      <td>Technical Support</td>\n",
       "      <td>Admin/Maintenance/Security/Datawarehousing</td>\n",
       "      <td>Mumbai</td>\n",
       "      <td>IT Software - Application Programming , Mainte...</td>\n",
       "      <td>IT-Software, Software Services</td>\n",
       "      <td>Technical Support Engineer</td>\n",
       "    </tr>\n",
       "    <tr>\n",
       "      <th>4</th>\n",
       "      <td>2d8b7d44e138a54d5dc841163138de50</td>\n",
       "      <td>2019-07-05 02:48:29 +0000</td>\n",
       "      <td>Software Test Engineer -hyderabad</td>\n",
       "      <td>Not Disclosed by Recruiter</td>\n",
       "      <td>2 - 5 yrs</td>\n",
       "      <td>manual testing| test engineering| test cases| ...</td>\n",
       "      <td>Programming &amp; Design</td>\n",
       "      <td>Hyderabad</td>\n",
       "      <td>IT Software - QA &amp; Testing</td>\n",
       "      <td>IT-Software, Software Services</td>\n",
       "      <td>Testing Engineer</td>\n",
       "    </tr>\n",
       "  </tbody>\n",
       "</table>\n",
       "</div>"
      ],
      "text/plain": [
       "                            Uniq Id            Crawl Timestamp  \\\n",
       "0  9be62c49a0b7ebe982a4af1edaa7bc5f  2019-07-05 01:46:07 +0000   \n",
       "1  3c52d436e39f596b22519da2612f6a56  2019-07-06 08:04:50 +0000   \n",
       "2  ffad8a2396c60be2bf6d0e2ff47c58d4  2019-08-05 15:50:44 +0000   \n",
       "3  7b921f51b5c2fb862b4a5f7a54c37f75  2019-08-05 15:31:56 +0000   \n",
       "4  2d8b7d44e138a54d5dc841163138de50  2019-07-05 02:48:29 +0000   \n",
       "\n",
       "                                           Job Title  \\\n",
       "0                              Digital Media Planner   \n",
       "1                           Online Bidding Executive   \n",
       "2  Trainee Research/ Research Executive- Hi- Tech...   \n",
       "3                                  Technical Support   \n",
       "4                  Software Test Engineer -hyderabad   \n",
       "\n",
       "                   Job Salary Job Experience Required  \\\n",
       "0  Not Disclosed by Recruiter              5 - 10 yrs   \n",
       "1  Not Disclosed by Recruiter               2 - 5 yrs   \n",
       "2  Not Disclosed by Recruiter               0 - 1 yrs   \n",
       "3    2,00,000 - 4,00,000 PA.                0 - 5 yrs   \n",
       "4  Not Disclosed by Recruiter               2 - 5 yrs   \n",
       "\n",
       "                                          Key Skills  \\\n",
       "0                      Media Planning| Digital Media   \n",
       "1  pre sales| closing| software knowledge| client...   \n",
       "2  Computer science| Fabrication| Quality check| ...   \n",
       "3                                  Technical Support   \n",
       "4  manual testing| test engineering| test cases| ...   \n",
       "\n",
       "                                Role Category   Location  \\\n",
       "0                                 Advertising     Mumbai   \n",
       "1                                Retail Sales  Pune,Pune   \n",
       "2                                         R&D    Gurgaon   \n",
       "3  Admin/Maintenance/Security/Datawarehousing     Mumbai   \n",
       "4                        Programming & Design  Hyderabad   \n",
       "\n",
       "                                     Functional Area  \\\n",
       "0  Marketing , Advertising , MR , PR , Media Plan...   \n",
       "1              Sales , Retail , Business Development   \n",
       "2                           Engineering Design , R&D   \n",
       "3  IT Software - Application Programming , Mainte...   \n",
       "4                         IT Software - QA & Testing   \n",
       "\n",
       "                                Industry                              Role  \n",
       "0  Advertising, PR, MR, Event Management  Media Planning Executive/Manager  \n",
       "1         IT-Software, Software Services           Sales Executive/Officer  \n",
       "2                  Recruitment, Staffing                     R&D Executive  \n",
       "3         IT-Software, Software Services        Technical Support Engineer  \n",
       "4         IT-Software, Software Services                  Testing Engineer  "
      ]
     },
     "execution_count": 44,
     "metadata": {},
     "output_type": "execute_result"
    }
   ],
   "source": [
    "jobs.head()"
   ]
  },
  {
   "cell_type": "code",
   "execution_count": 45,
   "id": "a74ce9ff",
   "metadata": {},
   "outputs": [],
   "source": [
    "role_wise_job=jobs.groupby(['Role Category']).size().reset_index(name='diff_roles').sort_values('diff_roles',ascending=False)"
   ]
  },
  {
   "cell_type": "code",
   "execution_count": 46,
   "id": "d52ced68",
   "metadata": {},
   "outputs": [
    {
     "data": {
      "image/png": "[encoded data removed]",
      "text/plain": [
       "<Figure size 864x864 with 1 Axes>"
      ]
     },
     "metadata": {
      "needs_background": "light"
     },
     "output_type": "display_data"
    }
   ],
   "source": [
    "plt.figure(figsize=(12,12))\n",
    "ax = sns.barplot(x=\"Role Category\", y=\"diff_roles\", data=role_wise_job)\n",
    "ax.set_xticklabels(ax.get_xticklabels(), rotation=90, ha=\"right\")\n",
    "\n",
    "ax.set_title('Role wise job openings')\n",
    "plt.tight_layout()\n",
    "plt.show()"
   ]
  },
  {
   "cell_type": "code",
   "execution_count": 47,
   "id": "c906544a",
   "metadata": {},
   "outputs": [],
   "source": [
    "industry_wise_job=jobs.groupby(['Industry']).size().reset_index(name='ind_roles').sort_values('ind_roles',ascending=False)"
   ]
  },
  {
   "cell_type": "code",
   "execution_count": 48,
   "id": "6f8bf4bc",
   "metadata": {},
   "outputs": [
    {
     "data": {
      "image/png": "[encoded data removed]",
      "text/plain": [
       "<Figure size 864x864 with 1 Axes>"
      ]
     },
     "metadata": {
      "needs_background": "light"
     },
     "output_type": "display_data"
    }
   ],
   "source": [
    "plt.figure(figsize=(12,12))\n",
    "ax = sns.barplot(x=\"Industry\", y=\"ind_roles\", data=industry_wise_job)\n",
    "ax.set_xticklabels(ax.get_xticklabels(), rotation=90, ha=\"right\")\n",
    "\n",
    "ax.set_title('Industry wise job openings')\n",
    "plt.tight_layout()\n",
    "plt.show()"
   ]
  },
  {
   "cell_type": "code",
   "execution_count": 49,
   "id": "0598f9aa",
   "metadata": {},
   "outputs": [
    {
     "name": "stdout",
     "output_type": "stream",
     "text": [
      "Feature 'Uniq Id' has '26846'uniques categories\n",
      "Feature 'Crawl Timestamp' has '25925'uniques categories\n",
      "Feature 'Job Title' has '21475'uniques categories\n",
      "Feature 'Job Salary' has '969'uniques categories\n",
      "Feature 'Job Experience Required' has '240'uniques categories\n",
      "Feature 'Key Skills' has '24502'uniques categories\n",
      "Feature 'Role Category' has '55'uniques categories\n",
      "Feature 'Location' has '2380'uniques categories\n",
      "Feature 'Functional Area' has '43'uniques categories\n",
      "Feature 'Industry' has '63'uniques categories\n",
      "Feature 'Role' has '442'uniques categories\n"
     ]
    }
   ],
   "source": [
    "for col_name in jobs.columns:\n",
    "    if jobs[col_name].dtypes=='object':\n",
    "        unique_cat=len(jobs[col_name].unique())\n",
    "        print(\"Feature '{col_name}' has '{unique_cat}'uniques categories\".format(col_name=col_name,unique_cat=unique_cat)) "
   ]
  },
  {
   "cell_type": "code",
   "execution_count": null,
   "id": "225ae6cc",
   "metadata": {},
   "outputs": [],
   "source": []
  }
 ],
 "metadata": {
  "kernelspec": {
   "display_name": "Python 3",
   "language": "python",
   "name": "python3"
  },
  "language_info": {
   "codemirror_mode": {
    "name": "ipython",
    "version": 3
   },
   "file_extension": ".py",
   "mimetype": "text/x-python",
   "name": "python",
   "nbconvert_exporter": "python",
   "pygments_lexer": "ipython3",
   "version": "3.8.8"
  }
 },
 "nbformat": 4,
 "nbformat_minor": 5
}
